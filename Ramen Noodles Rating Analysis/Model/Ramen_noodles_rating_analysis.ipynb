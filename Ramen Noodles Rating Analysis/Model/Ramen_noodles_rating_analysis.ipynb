{
 "cells": [
  {
   "cell_type": "markdown",
   "metadata": {},
   "source": [
    "# Ramen Noodles Rating Analysis\n",
    "![](https://i.ytimg.com/vi/CltUZnoUDFM/maxresdefault.jpg)"
   ]
  },
  {
   "cell_type": "markdown",
   "metadata": {},
   "source": [
    "### Contents\n",
    "1. Abstract\n",
    "2. Goal\n",
    "3. Dataset\n",
    "4. Understanding the dataset\n",
    "5. Cleaning the dataset\n",
    "6. Visualize and Analyse\n",
    "7. Conclusion and Discussion\n",
    "\n",
    "\n",
    "### Abstract\n",
    "Ramen (/ˈrɑːmən/) (拉麺, ラーメン, rāmen, Japanese pronunciation: [ɾaꜜːmeɴ]) (literally: \"pulled noodles\") is a Japanese noodle soup. It consists of Chinese-style wheat noodles served in a meat or (occasionally) fish-based broth, often flavored with soy sauce or miso, and uses toppings such as sliced pork (叉焼, chāshū), nori (dried seaweed), menma, and scallions. Nearly every region in Japan has its own variation of ramen, such as the tonkotsu (pork bone broth) ramen of Kyushu and the miso ramen of Hokkaido. Mazemen is a ramen dish that is not served in a soup, but rather with a sauce (such as tare).\n",
    "\n",
    "### Goal\n",
    "The goal of this project is to make the rating analysis models and visualize the rating system by the users and also the rating points given to this Ramen Noodles!\n",
    "\n",
    "### Dataset\n",
    "The Dataset is collected from Kaggle website. Here is the link for the website : https://www.kaggle.com/residentmario/ramen-ratings\n",
    "\n",
    "***************************************"
   ]
  },
  {
   "cell_type": "markdown",
   "metadata": {
    "papermill": {
     "duration": 0.037972,
     "end_time": "2020-09-25T16:20:07.327093",
     "exception": false,
     "start_time": "2020-09-25T16:20:07.289121",
     "status": "completed"
    },
    "slideshow": {
     "slide_type": "slide"
    },
    "tags": []
   },
   "source": [
    "## Understanding the data\n",
    "We have a dataset containing the business statistics of the existing Ramen brands and their perfomance in the countries across the world. We will use this dataset in our analysis and try to arrive at a feasable business model."
   ]
  },
  {
   "cell_type": "markdown",
   "metadata": {
    "papermill": {
     "duration": 0.038104,
     "end_time": "2020-09-25T16:20:07.402746",
     "exception": false,
     "start_time": "2020-09-25T16:20:07.364642",
     "status": "completed"
    },
    "slideshow": {
     "slide_type": "fragment"
    },
    "tags": []
   },
   "source": [
    "**Importing the required libraries and Dataset**"
   ]
  },
  {
   "cell_type": "code",
   "execution_count": 1,
   "metadata": {
    "execution": {
     "iopub.execute_input": "2020-09-25T16:20:07.482605Z",
     "iopub.status.busy": "2020-09-25T16:20:07.481879Z",
     "iopub.status.idle": "2020-09-25T16:20:08.613374Z",
     "shell.execute_reply": "2020-09-25T16:20:08.612623Z"
    },
    "papermill": {
     "duration": 1.17417,
     "end_time": "2020-09-25T16:20:08.613539",
     "exception": false,
     "start_time": "2020-09-25T16:20:07.439369",
     "status": "completed"
    },
    "slideshow": {
     "slide_type": "fragment"
    },
    "tags": []
   },
   "outputs": [],
   "source": [
    "import pandas as pd\n",
    "import numpy as np\n",
    "import os\n",
    "import re\n",
    "import matplotlib.pyplot as plt\n",
    "import seaborn as sns\n",
    "%matplotlib inline"
   ]
  },
  {
   "cell_type": "code",
   "execution_count": 2,
   "metadata": {
    "execution": {
     "iopub.execute_input": "2020-09-25T16:20:08.696148Z",
     "iopub.status.busy": "2020-09-25T16:20:08.695413Z",
     "iopub.status.idle": "2020-09-25T16:20:08.733478Z",
     "shell.execute_reply": "2020-09-25T16:20:08.732946Z"
    },
    "papermill": {
     "duration": 0.083841,
     "end_time": "2020-09-25T16:20:08.733596",
     "exception": false,
     "start_time": "2020-09-25T16:20:08.649755",
     "status": "completed"
    },
    "slideshow": {
     "slide_type": "fragment"
    },
    "tags": []
   },
   "outputs": [
    {
     "data": {
      "text/html": [
       "<div>\n",
       "<style scoped>\n",
       "    .dataframe tbody tr th:only-of-type {\n",
       "        vertical-align: middle;\n",
       "    }\n",
       "\n",
       "    .dataframe tbody tr th {\n",
       "        vertical-align: top;\n",
       "    }\n",
       "\n",
       "    .dataframe thead th {\n",
       "        text-align: right;\n",
       "    }\n",
       "</style>\n",
       "<table border=\"1\" class=\"dataframe\">\n",
       "  <thead>\n",
       "    <tr style=\"text-align: right;\">\n",
       "      <th></th>\n",
       "      <th>Review #</th>\n",
       "      <th>Brand</th>\n",
       "      <th>Variety</th>\n",
       "      <th>Style</th>\n",
       "      <th>Country</th>\n",
       "      <th>Stars</th>\n",
       "      <th>Top Ten</th>\n",
       "    </tr>\n",
       "  </thead>\n",
       "  <tbody>\n",
       "    <tr>\n",
       "      <th>0</th>\n",
       "      <td>2580</td>\n",
       "      <td>New Touch</td>\n",
       "      <td>T's Restaurant Tantanmen</td>\n",
       "      <td>Cup</td>\n",
       "      <td>Japan</td>\n",
       "      <td>3.75</td>\n",
       "      <td>NaN</td>\n",
       "    </tr>\n",
       "    <tr>\n",
       "      <th>1</th>\n",
       "      <td>2579</td>\n",
       "      <td>Just Way</td>\n",
       "      <td>Noodles Spicy Hot Sesame Spicy Hot Sesame Guan...</td>\n",
       "      <td>Pack</td>\n",
       "      <td>Taiwan</td>\n",
       "      <td>1</td>\n",
       "      <td>NaN</td>\n",
       "    </tr>\n",
       "    <tr>\n",
       "      <th>2</th>\n",
       "      <td>2578</td>\n",
       "      <td>Nissin</td>\n",
       "      <td>Cup Noodles Chicken Vegetable</td>\n",
       "      <td>Cup</td>\n",
       "      <td>USA</td>\n",
       "      <td>2.25</td>\n",
       "      <td>NaN</td>\n",
       "    </tr>\n",
       "    <tr>\n",
       "      <th>3</th>\n",
       "      <td>2577</td>\n",
       "      <td>Wei Lih</td>\n",
       "      <td>GGE Ramen Snack Tomato Flavor</td>\n",
       "      <td>Pack</td>\n",
       "      <td>Taiwan</td>\n",
       "      <td>2.75</td>\n",
       "      <td>NaN</td>\n",
       "    </tr>\n",
       "    <tr>\n",
       "      <th>4</th>\n",
       "      <td>2576</td>\n",
       "      <td>Ching's Secret</td>\n",
       "      <td>Singapore Curry</td>\n",
       "      <td>Pack</td>\n",
       "      <td>India</td>\n",
       "      <td>3.75</td>\n",
       "      <td>NaN</td>\n",
       "    </tr>\n",
       "  </tbody>\n",
       "</table>\n",
       "</div>"
      ],
      "text/plain": [
       "   Review #           Brand  \\\n",
       "0      2580       New Touch   \n",
       "1      2579        Just Way   \n",
       "2      2578          Nissin   \n",
       "3      2577         Wei Lih   \n",
       "4      2576  Ching's Secret   \n",
       "\n",
       "                                             Variety Style Country Stars  \\\n",
       "0                          T's Restaurant Tantanmen    Cup   Japan  3.75   \n",
       "1  Noodles Spicy Hot Sesame Spicy Hot Sesame Guan...  Pack  Taiwan     1   \n",
       "2                      Cup Noodles Chicken Vegetable   Cup     USA  2.25   \n",
       "3                      GGE Ramen Snack Tomato Flavor  Pack  Taiwan  2.75   \n",
       "4                                    Singapore Curry  Pack   India  3.75   \n",
       "\n",
       "  Top Ten  \n",
       "0     NaN  \n",
       "1     NaN  \n",
       "2     NaN  \n",
       "3     NaN  \n",
       "4     NaN  "
      ]
     },
     "execution_count": 2,
     "metadata": {},
     "output_type": "execute_result"
    }
   ],
   "source": [
    "df = pd.read_csv('../input/ramen-ratings/ramen-ratings.csv') # Loading the dataset\n",
    "df.head() # Printing the fist 5 rows to see the available features"
   ]
  },
  {
   "cell_type": "code",
   "execution_count": 3,
   "metadata": {
    "execution": {
     "iopub.execute_input": "2020-09-25T16:20:08.815360Z",
     "iopub.status.busy": "2020-09-25T16:20:08.814458Z",
     "iopub.status.idle": "2020-09-25T16:20:08.817860Z",
     "shell.execute_reply": "2020-09-25T16:20:08.818596Z"
    },
    "papermill": {
     "duration": 0.047429,
     "end_time": "2020-09-25T16:20:08.818795",
     "exception": false,
     "start_time": "2020-09-25T16:20:08.771366",
     "status": "completed"
    },
    "slideshow": {
     "slide_type": "fragment"
    },
    "tags": []
   },
   "outputs": [
    {
     "name": "stdout",
     "output_type": "stream",
     "text": [
      "Rows : 2580\n",
      "Columns : 7\n"
     ]
    }
   ],
   "source": [
    "shape = df.shape\n",
    "print(\"Rows :\",shape[0])\n",
    "print(\"Columns :\",shape[1])"
   ]
  },
  {
   "cell_type": "code",
   "execution_count": 4,
   "metadata": {
    "execution": {
     "iopub.execute_input": "2020-09-25T16:20:08.913660Z",
     "iopub.status.busy": "2020-09-25T16:20:08.899258Z",
     "iopub.status.idle": "2020-09-25T16:20:08.919231Z",
     "shell.execute_reply": "2020-09-25T16:20:08.918121Z"
    },
    "papermill": {
     "duration": 0.062268,
     "end_time": "2020-09-25T16:20:08.919436",
     "exception": false,
     "start_time": "2020-09-25T16:20:08.857168",
     "status": "completed"
    },
    "slideshow": {
     "slide_type": "fragment"
    },
    "tags": []
   },
   "outputs": [
    {
     "name": "stdout",
     "output_type": "stream",
     "text": [
      "<class 'pandas.core.frame.DataFrame'>\n",
      "RangeIndex: 2580 entries, 0 to 2579\n",
      "Data columns (total 7 columns):\n",
      " #   Column    Non-Null Count  Dtype \n",
      "---  ------    --------------  ----- \n",
      " 0   Review #  2580 non-null   int64 \n",
      " 1   Brand     2580 non-null   object\n",
      " 2   Variety   2580 non-null   object\n",
      " 3   Style     2578 non-null   object\n",
      " 4   Country   2580 non-null   object\n",
      " 5   Stars     2580 non-null   object\n",
      " 6   Top Ten   41 non-null     object\n",
      "dtypes: int64(1), object(6)\n",
      "memory usage: 141.2+ KB\n"
     ]
    }
   ],
   "source": [
    "df.info(verbose=True)"
   ]
  },
  {
   "cell_type": "markdown",
   "metadata": {
    "papermill": {
     "duration": 0.037659,
     "end_time": "2020-09-25T16:20:08.995851",
     "exception": false,
     "start_time": "2020-09-25T16:20:08.958192",
     "status": "completed"
    },
    "slideshow": {
     "slide_type": "subslide"
    },
    "tags": []
   },
   "source": [
    "#### Data Extracted from info() function:\n",
    "\n",
    "#### 1) Rows are 2580 and Columns are 7\n",
    "#### 2) There are 5 categorical columns and 2 numerical columns\n",
    "#### 3) Memory consumption: 141.2 KB"
   ]
  },
  {
   "cell_type": "code",
   "execution_count": 5,
   "metadata": {
    "execution": {
     "iopub.execute_input": "2020-09-25T16:20:09.087865Z",
     "iopub.status.busy": "2020-09-25T16:20:09.087110Z",
     "iopub.status.idle": "2020-09-25T16:20:09.090308Z",
     "shell.execute_reply": "2020-09-25T16:20:09.090780Z"
    },
    "papermill": {
     "duration": 0.049841,
     "end_time": "2020-09-25T16:20:09.090928",
     "exception": false,
     "start_time": "2020-09-25T16:20:09.041087",
     "status": "completed"
    },
    "tags": []
   },
   "outputs": [],
   "source": [
    "#Although stars is numberic but it is stored as string in the dataframe\n",
    "#Let's convert it into numeric value.\n",
    "df['Stars']=pd.to_numeric(df['Stars'], errors='coerce')"
   ]
  },
  {
   "cell_type": "code",
   "execution_count": 6,
   "metadata": {
    "execution": {
     "iopub.execute_input": "2020-09-25T16:20:09.179382Z",
     "iopub.status.busy": "2020-09-25T16:20:09.178704Z",
     "iopub.status.idle": "2020-09-25T16:20:09.194318Z",
     "shell.execute_reply": "2020-09-25T16:20:09.193779Z"
    },
    "papermill": {
     "duration": 0.064991,
     "end_time": "2020-09-25T16:20:09.194446",
     "exception": false,
     "start_time": "2020-09-25T16:20:09.129455",
     "status": "completed"
    },
    "slideshow": {
     "slide_type": "fragment"
    },
    "tags": []
   },
   "outputs": [
    {
     "data": {
      "text/html": [
       "<div>\n",
       "<style scoped>\n",
       "    .dataframe tbody tr th:only-of-type {\n",
       "        vertical-align: middle;\n",
       "    }\n",
       "\n",
       "    .dataframe tbody tr th {\n",
       "        vertical-align: top;\n",
       "    }\n",
       "\n",
       "    .dataframe thead th {\n",
       "        text-align: right;\n",
       "    }\n",
       "</style>\n",
       "<table border=\"1\" class=\"dataframe\">\n",
       "  <thead>\n",
       "    <tr style=\"text-align: right;\">\n",
       "      <th></th>\n",
       "      <th>Review #</th>\n",
       "      <th>Stars</th>\n",
       "    </tr>\n",
       "  </thead>\n",
       "  <tbody>\n",
       "    <tr>\n",
       "      <th>count</th>\n",
       "      <td>2580.000000</td>\n",
       "      <td>2577.000000</td>\n",
       "    </tr>\n",
       "    <tr>\n",
       "      <th>mean</th>\n",
       "      <td>1290.500000</td>\n",
       "      <td>3.654676</td>\n",
       "    </tr>\n",
       "    <tr>\n",
       "      <th>std</th>\n",
       "      <td>744.926171</td>\n",
       "      <td>1.015331</td>\n",
       "    </tr>\n",
       "    <tr>\n",
       "      <th>min</th>\n",
       "      <td>1.000000</td>\n",
       "      <td>0.000000</td>\n",
       "    </tr>\n",
       "    <tr>\n",
       "      <th>25%</th>\n",
       "      <td>645.750000</td>\n",
       "      <td>3.250000</td>\n",
       "    </tr>\n",
       "    <tr>\n",
       "      <th>50%</th>\n",
       "      <td>1290.500000</td>\n",
       "      <td>3.750000</td>\n",
       "    </tr>\n",
       "    <tr>\n",
       "      <th>75%</th>\n",
       "      <td>1935.250000</td>\n",
       "      <td>4.250000</td>\n",
       "    </tr>\n",
       "    <tr>\n",
       "      <th>max</th>\n",
       "      <td>2580.000000</td>\n",
       "      <td>5.000000</td>\n",
       "    </tr>\n",
       "  </tbody>\n",
       "</table>\n",
       "</div>"
      ],
      "text/plain": [
       "          Review #        Stars\n",
       "count  2580.000000  2577.000000\n",
       "mean   1290.500000     3.654676\n",
       "std     744.926171     1.015331\n",
       "min       1.000000     0.000000\n",
       "25%     645.750000     3.250000\n",
       "50%    1290.500000     3.750000\n",
       "75%    1935.250000     4.250000\n",
       "max    2580.000000     5.000000"
      ]
     },
     "execution_count": 6,
     "metadata": {},
     "output_type": "execute_result"
    }
   ],
   "source": [
    "df.describe()"
   ]
  },
  {
   "cell_type": "code",
   "execution_count": 7,
   "metadata": {
    "execution": {
     "iopub.execute_input": "2020-09-25T16:20:09.283512Z",
     "iopub.status.busy": "2020-09-25T16:20:09.282759Z",
     "iopub.status.idle": "2020-09-25T16:20:09.338149Z",
     "shell.execute_reply": "2020-09-25T16:20:09.337457Z"
    },
    "papermill": {
     "duration": 0.103698,
     "end_time": "2020-09-25T16:20:09.338283",
     "exception": false,
     "start_time": "2020-09-25T16:20:09.234585",
     "status": "completed"
    },
    "slideshow": {
     "slide_type": "fragment"
    },
    "tags": []
   },
   "outputs": [
    {
     "data": {
      "text/html": [
       "<div>\n",
       "<style scoped>\n",
       "    .dataframe tbody tr th:only-of-type {\n",
       "        vertical-align: middle;\n",
       "    }\n",
       "\n",
       "    .dataframe tbody tr th {\n",
       "        vertical-align: top;\n",
       "    }\n",
       "\n",
       "    .dataframe thead th {\n",
       "        text-align: right;\n",
       "    }\n",
       "</style>\n",
       "<table border=\"1\" class=\"dataframe\">\n",
       "  <thead>\n",
       "    <tr style=\"text-align: right;\">\n",
       "      <th></th>\n",
       "      <th>Review #</th>\n",
       "      <th>Brand</th>\n",
       "      <th>Variety</th>\n",
       "      <th>Style</th>\n",
       "      <th>Country</th>\n",
       "      <th>Stars</th>\n",
       "      <th>Top Ten</th>\n",
       "    </tr>\n",
       "  </thead>\n",
       "  <tbody>\n",
       "    <tr>\n",
       "      <th>count</th>\n",
       "      <td>2580.000000</td>\n",
       "      <td>2580</td>\n",
       "      <td>2580</td>\n",
       "      <td>2578</td>\n",
       "      <td>2580</td>\n",
       "      <td>2577.000000</td>\n",
       "      <td>41</td>\n",
       "    </tr>\n",
       "    <tr>\n",
       "      <th>unique</th>\n",
       "      <td>NaN</td>\n",
       "      <td>355</td>\n",
       "      <td>2413</td>\n",
       "      <td>7</td>\n",
       "      <td>38</td>\n",
       "      <td>NaN</td>\n",
       "      <td>38</td>\n",
       "    </tr>\n",
       "    <tr>\n",
       "      <th>top</th>\n",
       "      <td>NaN</td>\n",
       "      <td>Nissin</td>\n",
       "      <td>Beef</td>\n",
       "      <td>Pack</td>\n",
       "      <td>Japan</td>\n",
       "      <td>NaN</td>\n",
       "      <td>\\n</td>\n",
       "    </tr>\n",
       "    <tr>\n",
       "      <th>freq</th>\n",
       "      <td>NaN</td>\n",
       "      <td>381</td>\n",
       "      <td>7</td>\n",
       "      <td>1531</td>\n",
       "      <td>352</td>\n",
       "      <td>NaN</td>\n",
       "      <td>4</td>\n",
       "    </tr>\n",
       "    <tr>\n",
       "      <th>mean</th>\n",
       "      <td>1290.500000</td>\n",
       "      <td>NaN</td>\n",
       "      <td>NaN</td>\n",
       "      <td>NaN</td>\n",
       "      <td>NaN</td>\n",
       "      <td>3.654676</td>\n",
       "      <td>NaN</td>\n",
       "    </tr>\n",
       "    <tr>\n",
       "      <th>std</th>\n",
       "      <td>744.926171</td>\n",
       "      <td>NaN</td>\n",
       "      <td>NaN</td>\n",
       "      <td>NaN</td>\n",
       "      <td>NaN</td>\n",
       "      <td>1.015331</td>\n",
       "      <td>NaN</td>\n",
       "    </tr>\n",
       "    <tr>\n",
       "      <th>min</th>\n",
       "      <td>1.000000</td>\n",
       "      <td>NaN</td>\n",
       "      <td>NaN</td>\n",
       "      <td>NaN</td>\n",
       "      <td>NaN</td>\n",
       "      <td>0.000000</td>\n",
       "      <td>NaN</td>\n",
       "    </tr>\n",
       "    <tr>\n",
       "      <th>25%</th>\n",
       "      <td>645.750000</td>\n",
       "      <td>NaN</td>\n",
       "      <td>NaN</td>\n",
       "      <td>NaN</td>\n",
       "      <td>NaN</td>\n",
       "      <td>3.250000</td>\n",
       "      <td>NaN</td>\n",
       "    </tr>\n",
       "    <tr>\n",
       "      <th>50%</th>\n",
       "      <td>1290.500000</td>\n",
       "      <td>NaN</td>\n",
       "      <td>NaN</td>\n",
       "      <td>NaN</td>\n",
       "      <td>NaN</td>\n",
       "      <td>3.750000</td>\n",
       "      <td>NaN</td>\n",
       "    </tr>\n",
       "    <tr>\n",
       "      <th>75%</th>\n",
       "      <td>1935.250000</td>\n",
       "      <td>NaN</td>\n",
       "      <td>NaN</td>\n",
       "      <td>NaN</td>\n",
       "      <td>NaN</td>\n",
       "      <td>4.250000</td>\n",
       "      <td>NaN</td>\n",
       "    </tr>\n",
       "    <tr>\n",
       "      <th>max</th>\n",
       "      <td>2580.000000</td>\n",
       "      <td>NaN</td>\n",
       "      <td>NaN</td>\n",
       "      <td>NaN</td>\n",
       "      <td>NaN</td>\n",
       "      <td>5.000000</td>\n",
       "      <td>NaN</td>\n",
       "    </tr>\n",
       "  </tbody>\n",
       "</table>\n",
       "</div>"
      ],
      "text/plain": [
       "           Review #   Brand Variety Style Country        Stars Top Ten\n",
       "count   2580.000000    2580    2580  2578    2580  2577.000000      41\n",
       "unique          NaN     355    2413     7      38          NaN      38\n",
       "top             NaN  Nissin    Beef  Pack   Japan          NaN      \\n\n",
       "freq            NaN     381       7  1531     352          NaN       4\n",
       "mean    1290.500000     NaN     NaN   NaN     NaN     3.654676     NaN\n",
       "std      744.926171     NaN     NaN   NaN     NaN     1.015331     NaN\n",
       "min        1.000000     NaN     NaN   NaN     NaN     0.000000     NaN\n",
       "25%      645.750000     NaN     NaN   NaN     NaN     3.250000     NaN\n",
       "50%     1290.500000     NaN     NaN   NaN     NaN     3.750000     NaN\n",
       "75%     1935.250000     NaN     NaN   NaN     NaN     4.250000     NaN\n",
       "max     2580.000000     NaN     NaN   NaN     NaN     5.000000     NaN"
      ]
     },
     "execution_count": 7,
     "metadata": {},
     "output_type": "execute_result"
    }
   ],
   "source": [
    "df.describe(include =\"all\")"
   ]
  },
  {
   "cell_type": "code",
   "execution_count": 8,
   "metadata": {
    "execution": {
     "iopub.execute_input": "2020-09-25T16:20:09.426734Z",
     "iopub.status.busy": "2020-09-25T16:20:09.426091Z",
     "iopub.status.idle": "2020-09-25T16:20:09.429129Z",
     "shell.execute_reply": "2020-09-25T16:20:09.429701Z"
    },
    "papermill": {
     "duration": 0.051745,
     "end_time": "2020-09-25T16:20:09.429838",
     "exception": false,
     "start_time": "2020-09-25T16:20:09.378093",
     "status": "completed"
    },
    "slideshow": {
     "slide_type": "fragment"
    },
    "tags": []
   },
   "outputs": [
    {
     "data": {
      "text/plain": [
       "Pack    1531\n",
       "Bowl     481\n",
       "Cup      450\n",
       "Tray     108\n",
       "Box        6\n",
       "Can        1\n",
       "Bar        1\n",
       "Name: Style, dtype: int64"
      ]
     },
     "execution_count": 8,
     "metadata": {},
     "output_type": "execute_result"
    }
   ],
   "source": [
    "#different types of Ramen styles\n",
    "df['Style'].value_counts()"
   ]
  },
  {
   "cell_type": "code",
   "execution_count": 9,
   "metadata": {
    "execution": {
     "iopub.execute_input": "2020-09-25T16:20:09.519499Z",
     "iopub.status.busy": "2020-09-25T16:20:09.518411Z",
     "iopub.status.idle": "2020-09-25T16:20:09.522537Z",
     "shell.execute_reply": "2020-09-25T16:20:09.523046Z"
    },
    "papermill": {
     "duration": 0.05311,
     "end_time": "2020-09-25T16:20:09.523190",
     "exception": false,
     "start_time": "2020-09-25T16:20:09.470080",
     "status": "completed"
    },
    "slideshow": {
     "slide_type": "fragment"
    },
    "tags": []
   },
   "outputs": [
    {
     "data": {
      "text/plain": [
       "Review #    False\n",
       "Brand       False\n",
       "Variety     False\n",
       "Style        True\n",
       "Country     False\n",
       "Stars        True\n",
       "Top Ten      True\n",
       "dtype: bool"
      ]
     },
     "execution_count": 9,
     "metadata": {},
     "output_type": "execute_result"
    }
   ],
   "source": [
    "#what columns have NaN values\n",
    "df.isna().any()"
   ]
  },
  {
   "cell_type": "code",
   "execution_count": 10,
   "metadata": {
    "execution": {
     "iopub.execute_input": "2020-09-25T16:20:09.609227Z",
     "iopub.status.busy": "2020-09-25T16:20:09.608278Z",
     "iopub.status.idle": "2020-09-25T16:20:09.617287Z",
     "shell.execute_reply": "2020-09-25T16:20:09.617839Z"
    },
    "papermill": {
     "duration": 0.053651,
     "end_time": "2020-09-25T16:20:09.617985",
     "exception": false,
     "start_time": "2020-09-25T16:20:09.564334",
     "status": "completed"
    },
    "slideshow": {
     "slide_type": "fragment"
    },
    "tags": []
   },
   "outputs": [
    {
     "data": {
      "text/plain": [
       "Review #       0\n",
       "Brand          0\n",
       "Variety        0\n",
       "Style          2\n",
       "Country        0\n",
       "Stars          3\n",
       "Top Ten     2539\n",
       "dtype: int64"
      ]
     },
     "execution_count": 10,
     "metadata": {},
     "output_type": "execute_result"
    }
   ],
   "source": [
    "# Sum of NaNs in each column\n",
    "df.isna().sum()"
   ]
  },
  {
   "cell_type": "markdown",
   "metadata": {
    "papermill": {
     "duration": 0.04146,
     "end_time": "2020-09-25T16:20:09.700586",
     "exception": false,
     "start_time": "2020-09-25T16:20:09.659126",
     "status": "completed"
    },
    "slideshow": {
     "slide_type": "slide"
    },
    "tags": []
   },
   "source": [
    "*************************\n",
    "## Cleaning the data \n",
    " We see that column \"Style\" has <font color='orange'>2</font>, \"Stars\" has <font color='orange'>3</font>  and \"Top Ten\" has <font color='orange'>2543</font> NaNs. It is imperative that we handle these values before we jump in for EDA."
   ]
  },
  {
   "cell_type": "code",
   "execution_count": 11,
   "metadata": {
    "execution": {
     "iopub.execute_input": "2020-09-25T16:20:09.868026Z",
     "iopub.status.busy": "2020-09-25T16:20:09.867299Z",
     "iopub.status.idle": "2020-09-25T16:20:09.888300Z",
     "shell.execute_reply": "2020-09-25T16:20:09.888789Z"
    },
    "papermill": {
     "duration": 0.065979,
     "end_time": "2020-09-25T16:20:09.888950",
     "exception": false,
     "start_time": "2020-09-25T16:20:09.822971",
     "status": "completed"
    },
    "slideshow": {
     "slide_type": "slide"
    },
    "tags": []
   },
   "outputs": [
    {
     "data": {
      "text/html": [
       "<div>\n",
       "<style scoped>\n",
       "    .dataframe tbody tr th:only-of-type {\n",
       "        vertical-align: middle;\n",
       "    }\n",
       "\n",
       "    .dataframe tbody tr th {\n",
       "        vertical-align: top;\n",
       "    }\n",
       "\n",
       "    .dataframe thead th {\n",
       "        text-align: right;\n",
       "    }\n",
       "</style>\n",
       "<table border=\"1\" class=\"dataframe\">\n",
       "  <thead>\n",
       "    <tr style=\"text-align: right;\">\n",
       "      <th></th>\n",
       "      <th>Review #</th>\n",
       "      <th>Brand</th>\n",
       "      <th>Variety</th>\n",
       "      <th>Style</th>\n",
       "      <th>Country</th>\n",
       "      <th>Stars</th>\n",
       "      <th>Top Ten</th>\n",
       "    </tr>\n",
       "  </thead>\n",
       "  <tbody>\n",
       "    <tr>\n",
       "      <th>32</th>\n",
       "      <td>2548</td>\n",
       "      <td>Ottogi</td>\n",
       "      <td>Plain Instant Noodle No Soup Included</td>\n",
       "      <td>Pack</td>\n",
       "      <td>South Korea</td>\n",
       "      <td>NaN</td>\n",
       "      <td>0</td>\n",
       "    </tr>\n",
       "    <tr>\n",
       "      <th>122</th>\n",
       "      <td>2458</td>\n",
       "      <td>Samyang Foods</td>\n",
       "      <td>Sari Ramen</td>\n",
       "      <td>Pack</td>\n",
       "      <td>South Korea</td>\n",
       "      <td>NaN</td>\n",
       "      <td>0</td>\n",
       "    </tr>\n",
       "    <tr>\n",
       "      <th>993</th>\n",
       "      <td>1587</td>\n",
       "      <td>Mi E-Zee</td>\n",
       "      <td>Plain Noodles</td>\n",
       "      <td>Pack</td>\n",
       "      <td>Malaysia</td>\n",
       "      <td>NaN</td>\n",
       "      <td>0</td>\n",
       "    </tr>\n",
       "    <tr>\n",
       "      <th>2152</th>\n",
       "      <td>428</td>\n",
       "      <td>Kamfen</td>\n",
       "      <td>E Menm Chicken</td>\n",
       "      <td>NaN</td>\n",
       "      <td>China</td>\n",
       "      <td>3.75</td>\n",
       "      <td>0</td>\n",
       "    </tr>\n",
       "    <tr>\n",
       "      <th>2442</th>\n",
       "      <td>138</td>\n",
       "      <td>Unif</td>\n",
       "      <td>100 Furong Shrimp</td>\n",
       "      <td>NaN</td>\n",
       "      <td>Taiwan</td>\n",
       "      <td>3.00</td>\n",
       "      <td>0</td>\n",
       "    </tr>\n",
       "  </tbody>\n",
       "</table>\n",
       "</div>"
      ],
      "text/plain": [
       "      Review #          Brand                                Variety Style  \\\n",
       "32        2548         Ottogi  Plain Instant Noodle No Soup Included  Pack   \n",
       "122       2458  Samyang Foods                             Sari Ramen  Pack   \n",
       "993       1587       Mi E-Zee                          Plain Noodles  Pack   \n",
       "2152       428         Kamfen                         E Menm Chicken   NaN   \n",
       "2442       138           Unif                      100 Furong Shrimp   NaN   \n",
       "\n",
       "          Country  Stars Top Ten  \n",
       "32    South Korea    NaN       0  \n",
       "122   South Korea    NaN       0  \n",
       "993      Malaysia    NaN       0  \n",
       "2152        China   3.75       0  \n",
       "2442       Taiwan   3.00       0  "
      ]
     },
     "execution_count": 11,
     "metadata": {},
     "output_type": "execute_result"
    }
   ],
   "source": [
    "# For all the NaNs in \"Top Ten\" column, we have assigned a temporary value 0.\n",
    "# we will deal with \"Top Ten\" column later.\n",
    "df['Top Ten'].fillna(0, inplace=True)\n",
    "\n",
    "#section of dataframe with NaN values\n",
    "df[df.isnull().any(axis=1)]"
   ]
  },
  {
   "cell_type": "markdown",
   "metadata": {
    "papermill": {
     "duration": 0.041297,
     "end_time": "2020-09-25T16:20:09.973485",
     "exception": false,
     "start_time": "2020-09-25T16:20:09.932188",
     "status": "completed"
    },
    "slideshow": {
     "slide_type": "slide"
    },
    "tags": []
   },
   "source": [
    "#### Handling NaNs in Column \"Style\""
   ]
  },
  {
   "cell_type": "code",
   "execution_count": 12,
   "metadata": {
    "execution": {
     "iopub.execute_input": "2020-09-25T16:20:10.064021Z",
     "iopub.status.busy": "2020-09-25T16:20:10.062962Z",
     "iopub.status.idle": "2020-09-25T16:20:10.068718Z",
     "shell.execute_reply": "2020-09-25T16:20:10.067976Z"
    },
    "papermill": {
     "duration": 0.053427,
     "end_time": "2020-09-25T16:20:10.068844",
     "exception": false,
     "start_time": "2020-09-25T16:20:10.015417",
     "status": "completed"
    },
    "slideshow": {
     "slide_type": "fragment"
    },
    "tags": []
   },
   "outputs": [],
   "source": [
    "#Imputing style is not relevant in this case\n",
    "#espescially when only two rows have missing style values\n",
    "#so dropping the two rows with NaN in style\n",
    "df.drop(2152, axis=0,inplace=True)\n",
    "df.drop(2442, axis=0,inplace=True)"
   ]
  },
  {
   "cell_type": "markdown",
   "metadata": {
    "papermill": {
     "duration": 0.041215,
     "end_time": "2020-09-25T16:20:10.151701",
     "exception": false,
     "start_time": "2020-09-25T16:20:10.110486",
     "status": "completed"
    },
    "slideshow": {
     "slide_type": "slide"
    },
    "tags": []
   },
   "source": [
    "#### Handling NaNs in Column \"Stars\""
   ]
  },
  {
   "cell_type": "code",
   "execution_count": 13,
   "metadata": {
    "execution": {
     "iopub.execute_input": "2020-09-25T16:20:10.252518Z",
     "iopub.status.busy": "2020-09-25T16:20:10.251398Z",
     "iopub.status.idle": "2020-09-25T16:20:10.255983Z",
     "shell.execute_reply": "2020-09-25T16:20:10.255451Z"
    },
    "papermill": {
     "duration": 0.062697,
     "end_time": "2020-09-25T16:20:10.256100",
     "exception": false,
     "start_time": "2020-09-25T16:20:10.193403",
     "status": "completed"
    },
    "tags": []
   },
   "outputs": [
    {
     "data": {
      "text/html": [
       "<div>\n",
       "<style scoped>\n",
       "    .dataframe tbody tr th:only-of-type {\n",
       "        vertical-align: middle;\n",
       "    }\n",
       "\n",
       "    .dataframe tbody tr th {\n",
       "        vertical-align: top;\n",
       "    }\n",
       "\n",
       "    .dataframe thead th {\n",
       "        text-align: right;\n",
       "    }\n",
       "</style>\n",
       "<table border=\"1\" class=\"dataframe\">\n",
       "  <thead>\n",
       "    <tr style=\"text-align: right;\">\n",
       "      <th></th>\n",
       "      <th>Review #</th>\n",
       "      <th>Brand</th>\n",
       "      <th>Variety</th>\n",
       "      <th>Style</th>\n",
       "      <th>Country</th>\n",
       "      <th>Stars</th>\n",
       "      <th>Top Ten</th>\n",
       "    </tr>\n",
       "  </thead>\n",
       "  <tbody>\n",
       "    <tr>\n",
       "      <th>32</th>\n",
       "      <td>2548</td>\n",
       "      <td>Ottogi</td>\n",
       "      <td>Plain Instant Noodle No Soup Included</td>\n",
       "      <td>Pack</td>\n",
       "      <td>South Korea</td>\n",
       "      <td>NaN</td>\n",
       "      <td>0</td>\n",
       "    </tr>\n",
       "    <tr>\n",
       "      <th>122</th>\n",
       "      <td>2458</td>\n",
       "      <td>Samyang Foods</td>\n",
       "      <td>Sari Ramen</td>\n",
       "      <td>Pack</td>\n",
       "      <td>South Korea</td>\n",
       "      <td>NaN</td>\n",
       "      <td>0</td>\n",
       "    </tr>\n",
       "    <tr>\n",
       "      <th>993</th>\n",
       "      <td>1587</td>\n",
       "      <td>Mi E-Zee</td>\n",
       "      <td>Plain Noodles</td>\n",
       "      <td>Pack</td>\n",
       "      <td>Malaysia</td>\n",
       "      <td>NaN</td>\n",
       "      <td>0</td>\n",
       "    </tr>\n",
       "  </tbody>\n",
       "</table>\n",
       "</div>"
      ],
      "text/plain": [
       "     Review #          Brand                                Variety Style  \\\n",
       "32       2548         Ottogi  Plain Instant Noodle No Soup Included  Pack   \n",
       "122      2458  Samyang Foods                             Sari Ramen  Pack   \n",
       "993      1587       Mi E-Zee                          Plain Noodles  Pack   \n",
       "\n",
       "         Country  Stars Top Ten  \n",
       "32   South Korea    NaN       0  \n",
       "122  South Korea    NaN       0  \n",
       "993     Malaysia    NaN       0  "
      ]
     },
     "execution_count": 13,
     "metadata": {},
     "output_type": "execute_result"
    }
   ],
   "source": [
    "#storing data with NaN in seperate dataframe\n",
    "df_with_Nan = df[df.isnull().any(axis=1)]\n",
    "df_with_Nan"
   ]
  },
  {
   "cell_type": "markdown",
   "metadata": {
    "papermill": {
     "duration": 0.042902,
     "end_time": "2020-09-25T16:20:10.341839",
     "exception": false,
     "start_time": "2020-09-25T16:20:10.298937",
     "status": "completed"
    },
    "tags": []
   },
   "source": [
    "Taking mean rating of specific brand from specific country from where it is mssing.\n",
    "\n",
    "Below is the logic used which will be generalized with for loop in next cell.\n",
    "\n",
    "Ottogi = df.loc[(df['Brand']=='Ottogi') & (df['Country']=='South Korea')]\n",
    "\n",
    "df.loc[32,'Stars'] = round(Ottogi.Stars.mean(),2)\n",
    "\n",
    "\n",
    "Samyang = df.loc[(df['Brand']=='Samyang Foods') & (df['Country']=='South Korea')]\n",
    "\n",
    "df.loc[122,'Stars'] = round(Samyang.Stars.mean(),2)\n",
    "\n",
    "\n",
    "Mi = df.loc[(df['Brand']=='Mi E-Zee') & (df['Country']=='South Korea')]\n",
    "\n",
    "df.loc[993,'Stars'] = Mi(Samyang.Stars.mean(),2)"
   ]
  },
  {
   "cell_type": "code",
   "execution_count": 14,
   "metadata": {
    "execution": {
     "iopub.execute_input": "2020-09-25T16:20:10.434021Z",
     "iopub.status.busy": "2020-09-25T16:20:10.432945Z",
     "iopub.status.idle": "2020-09-25T16:20:10.447888Z",
     "shell.execute_reply": "2020-09-25T16:20:10.448399Z"
    },
    "papermill": {
     "duration": 0.063836,
     "end_time": "2020-09-25T16:20:10.448558",
     "exception": false,
     "start_time": "2020-09-25T16:20:10.384722",
     "status": "completed"
    },
    "slideshow": {
     "slide_type": "slide"
    },
    "tags": []
   },
   "outputs": [],
   "source": [
    "for i in df_with_Nan.index:\n",
    "    subDf = df.loc[(df['Brand']==df_with_Nan.loc[i,'Brand']) & (df['Country']==df_with_Nan.loc[i,'Country'])]\n",
    "    mean = subDf['Stars'].mean()\n",
    "    df.loc[i,'Stars'] = round(mean,2)"
   ]
  },
  {
   "cell_type": "code",
   "execution_count": 15,
   "metadata": {
    "execution": {
     "iopub.execute_input": "2020-09-25T16:20:10.538946Z",
     "iopub.status.busy": "2020-09-25T16:20:10.537880Z",
     "iopub.status.idle": "2020-09-25T16:20:10.547374Z",
     "shell.execute_reply": "2020-09-25T16:20:10.547892Z"
    },
    "papermill": {
     "duration": 0.056537,
     "end_time": "2020-09-25T16:20:10.548033",
     "exception": false,
     "start_time": "2020-09-25T16:20:10.491496",
     "status": "completed"
    },
    "slideshow": {
     "slide_type": "subslide"
    },
    "tags": []
   },
   "outputs": [
    {
     "data": {
      "text/plain": [
       "Review #    0\n",
       "Brand       0\n",
       "Variety     0\n",
       "Style       0\n",
       "Country     0\n",
       "Stars       0\n",
       "Top Ten     0\n",
       "dtype: int64"
      ]
     },
     "execution_count": 15,
     "metadata": {},
     "output_type": "execute_result"
    }
   ],
   "source": [
    "df.isna().sum() # Checking again for NaNs"
   ]
  },
  {
   "cell_type": "markdown",
   "metadata": {
    "papermill": {
     "duration": 0.043055,
     "end_time": "2020-09-25T16:20:10.634660",
     "exception": false,
     "start_time": "2020-09-25T16:20:10.591605",
     "status": "completed"
    },
    "slideshow": {
     "slide_type": "slide"
    },
    "tags": []
   },
   "source": [
    "#### Remember we had stored dummy value \"0\" to the NaNs of column \"Top Ten\". Let us see how we can handle it."
   ]
  },
  {
   "cell_type": "code",
   "execution_count": 16,
   "metadata": {
    "execution": {
     "iopub.execute_input": "2020-09-25T16:20:10.725829Z",
     "iopub.status.busy": "2020-09-25T16:20:10.724729Z",
     "iopub.status.idle": "2020-09-25T16:20:10.755544Z",
     "shell.execute_reply": "2020-09-25T16:20:10.756129Z"
    },
    "papermill": {
     "duration": 0.078625,
     "end_time": "2020-09-25T16:20:10.756298",
     "exception": false,
     "start_time": "2020-09-25T16:20:10.677673",
     "status": "completed"
    },
    "slideshow": {
     "slide_type": "fragment"
    },
    "tags": []
   },
   "outputs": [
    {
     "data": {
      "text/html": [
       "<div>\n",
       "<style scoped>\n",
       "    .dataframe tbody tr th:only-of-type {\n",
       "        vertical-align: middle;\n",
       "    }\n",
       "\n",
       "    .dataframe tbody tr th {\n",
       "        vertical-align: top;\n",
       "    }\n",
       "\n",
       "    .dataframe thead th {\n",
       "        text-align: right;\n",
       "    }\n",
       "</style>\n",
       "<table border=\"1\" class=\"dataframe\">\n",
       "  <thead>\n",
       "    <tr style=\"text-align: right;\">\n",
       "      <th></th>\n",
       "      <th>Review #</th>\n",
       "      <th>Brand</th>\n",
       "      <th>Variety</th>\n",
       "      <th>Style</th>\n",
       "      <th>Country</th>\n",
       "      <th>Stars</th>\n",
       "      <th>Top Ten</th>\n",
       "    </tr>\n",
       "  </thead>\n",
       "  <tbody>\n",
       "    <tr>\n",
       "      <th>616</th>\n",
       "      <td>1964</td>\n",
       "      <td>MAMA</td>\n",
       "      <td>Instant Noodles Coconut Milk Flavour</td>\n",
       "      <td>Pack</td>\n",
       "      <td>Myanmar</td>\n",
       "      <td>5.00</td>\n",
       "      <td>2016 #10</td>\n",
       "    </tr>\n",
       "    <tr>\n",
       "      <th>633</th>\n",
       "      <td>1947</td>\n",
       "      <td>Prima Taste</td>\n",
       "      <td>Singapore Laksa Wholegrain La Mian</td>\n",
       "      <td>Pack</td>\n",
       "      <td>Singapore</td>\n",
       "      <td>5.00</td>\n",
       "      <td>2016 #1</td>\n",
       "    </tr>\n",
       "    <tr>\n",
       "      <th>655</th>\n",
       "      <td>1925</td>\n",
       "      <td>Prima</td>\n",
       "      <td>Juzz's Mee Creamy Chicken Flavour</td>\n",
       "      <td>Pack</td>\n",
       "      <td>Singapore</td>\n",
       "      <td>5.00</td>\n",
       "      <td>2016 #8</td>\n",
       "    </tr>\n",
       "    <tr>\n",
       "      <th>673</th>\n",
       "      <td>1907</td>\n",
       "      <td>Prima Taste</td>\n",
       "      <td>Singapore Curry Wholegrain La Mian</td>\n",
       "      <td>Pack</td>\n",
       "      <td>Singapore</td>\n",
       "      <td>5.00</td>\n",
       "      <td>2016 #5</td>\n",
       "    </tr>\n",
       "    <tr>\n",
       "      <th>752</th>\n",
       "      <td>1828</td>\n",
       "      <td>Tseng Noodles</td>\n",
       "      <td>Scallion With Sichuan Pepper  Flavor</td>\n",
       "      <td>Pack</td>\n",
       "      <td>Taiwan</td>\n",
       "      <td>5.00</td>\n",
       "      <td>2016 #9</td>\n",
       "    </tr>\n",
       "    <tr>\n",
       "      <th>891</th>\n",
       "      <td>1689</td>\n",
       "      <td>Wugudaochang</td>\n",
       "      <td>Tomato Beef Brisket Flavor Purple Potato Noodle</td>\n",
       "      <td>Pack</td>\n",
       "      <td>China</td>\n",
       "      <td>5.00</td>\n",
       "      <td>2016 #7</td>\n",
       "    </tr>\n",
       "    <tr>\n",
       "      <th>942</th>\n",
       "      <td>1638</td>\n",
       "      <td>A-Sha Dry Noodle</td>\n",
       "      <td>Veggie Noodle Tomato Noodle With Vine Ripened ...</td>\n",
       "      <td>Pack</td>\n",
       "      <td>Taiwan</td>\n",
       "      <td>5.00</td>\n",
       "      <td>2015 #10</td>\n",
       "    </tr>\n",
       "    <tr>\n",
       "      <th>963</th>\n",
       "      <td>1617</td>\n",
       "      <td>MyKuali</td>\n",
       "      <td>Penang Hokkien Prawn Noodle (New Improved Taste)</td>\n",
       "      <td>Pack</td>\n",
       "      <td>Malaysia</td>\n",
       "      <td>5.00</td>\n",
       "      <td>2015 #7</td>\n",
       "    </tr>\n",
       "    <tr>\n",
       "      <th>995</th>\n",
       "      <td>1585</td>\n",
       "      <td>CarJEN</td>\n",
       "      <td>Nyonya Curry Laksa</td>\n",
       "      <td>Pack</td>\n",
       "      <td>Malaysia</td>\n",
       "      <td>5.00</td>\n",
       "      <td>2015 #4</td>\n",
       "    </tr>\n",
       "    <tr>\n",
       "      <th>1059</th>\n",
       "      <td>1521</td>\n",
       "      <td>Maruchan</td>\n",
       "      <td>Gotsumori Sauce Yakisoba</td>\n",
       "      <td>Tray</td>\n",
       "      <td>Japan</td>\n",
       "      <td>5.00</td>\n",
       "      <td>2015 #9</td>\n",
       "    </tr>\n",
       "    <tr>\n",
       "      <th>1072</th>\n",
       "      <td>1508</td>\n",
       "      <td>Mamee</td>\n",
       "      <td>Chef Gold Recipe Mi Kari Seribu Rasa</td>\n",
       "      <td>Pack</td>\n",
       "      <td>Malaysia</td>\n",
       "      <td>5.00</td>\n",
       "      <td>2015 #6</td>\n",
       "    </tr>\n",
       "    <tr>\n",
       "      <th>1080</th>\n",
       "      <td>1500</td>\n",
       "      <td>MyKuali</td>\n",
       "      <td>Penang Red Tom Yum Goong Noodle</td>\n",
       "      <td>Pack</td>\n",
       "      <td>Malaysia</td>\n",
       "      <td>5.00</td>\n",
       "      <td>2015 #1</td>\n",
       "    </tr>\n",
       "    <tr>\n",
       "      <th>1109</th>\n",
       "      <td>1471</td>\n",
       "      <td>Mama</td>\n",
       "      <td>Instant Noodles Shrimp Creamy Tom Yum Flavour ...</td>\n",
       "      <td>Pack</td>\n",
       "      <td>Thailand</td>\n",
       "      <td>5.00</td>\n",
       "      <td>2013 #10</td>\n",
       "    </tr>\n",
       "    <tr>\n",
       "      <th>1114</th>\n",
       "      <td>1466</td>\n",
       "      <td>Mama</td>\n",
       "      <td>Oriental Style Instant Noodles Green Curry Fla...</td>\n",
       "      <td>Pack</td>\n",
       "      <td>Thailand</td>\n",
       "      <td>5.00</td>\n",
       "      <td>2015 #8</td>\n",
       "    </tr>\n",
       "    <tr>\n",
       "      <th>1230</th>\n",
       "      <td>1350</td>\n",
       "      <td>Mamee</td>\n",
       "      <td>Chef Curry Laksa Flavour</td>\n",
       "      <td>Pack</td>\n",
       "      <td>Malaysia</td>\n",
       "      <td>5.00</td>\n",
       "      <td>2014 #7</td>\n",
       "    </tr>\n",
       "    <tr>\n",
       "      <th>1250</th>\n",
       "      <td>1330</td>\n",
       "      <td>Sapporo Ichiban</td>\n",
       "      <td>Otafuku Okonomi Sauce Yakisoba</td>\n",
       "      <td>Tray</td>\n",
       "      <td>Japan</td>\n",
       "      <td>5.00</td>\n",
       "      <td>2014 #4</td>\n",
       "    </tr>\n",
       "    <tr>\n",
       "      <th>1272</th>\n",
       "      <td>1308</td>\n",
       "      <td>Nongshim</td>\n",
       "      <td>Soon Veggie Noodle Soup</td>\n",
       "      <td>Pack</td>\n",
       "      <td>South Korea</td>\n",
       "      <td>5.00</td>\n",
       "      <td>2014 #9</td>\n",
       "    </tr>\n",
       "    <tr>\n",
       "      <th>1278</th>\n",
       "      <td>1302</td>\n",
       "      <td>Mama</td>\n",
       "      <td>Instant Noodles Yentafo Tom Yum Mohfai Flavour</td>\n",
       "      <td>Pack</td>\n",
       "      <td>Thailand</td>\n",
       "      <td>5.00</td>\n",
       "      <td>2014 #10</td>\n",
       "    </tr>\n",
       "    <tr>\n",
       "      <th>1309</th>\n",
       "      <td>1271</td>\n",
       "      <td>Prima Taste</td>\n",
       "      <td>Singapore Chilli Crab La Mian</td>\n",
       "      <td>Pack</td>\n",
       "      <td>Singapore</td>\n",
       "      <td>5.00</td>\n",
       "      <td>2014 #8</td>\n",
       "    </tr>\n",
       "    <tr>\n",
       "      <th>1382</th>\n",
       "      <td>1198</td>\n",
       "      <td>Samyang Foods</td>\n",
       "      <td>Maesaengyitangmyun Baked Noodle</td>\n",
       "      <td>Pack</td>\n",
       "      <td>South Korea</td>\n",
       "      <td>5.00</td>\n",
       "      <td>2014 #5</td>\n",
       "    </tr>\n",
       "    <tr>\n",
       "      <th>1397</th>\n",
       "      <td>1183</td>\n",
       "      <td>Paldo</td>\n",
       "      <td>Cheese Noodle</td>\n",
       "      <td>Pack</td>\n",
       "      <td>South Korea</td>\n",
       "      <td>5.00</td>\n",
       "      <td>2014 #6</td>\n",
       "    </tr>\n",
       "    <tr>\n",
       "      <th>1493</th>\n",
       "      <td>1087</td>\n",
       "      <td>MyKuali</td>\n",
       "      <td>Penang White Curry Noodle</td>\n",
       "      <td>Pack</td>\n",
       "      <td>Malaysia</td>\n",
       "      <td>5.00</td>\n",
       "      <td>2014 #1</td>\n",
       "    </tr>\n",
       "    <tr>\n",
       "      <th>1588</th>\n",
       "      <td>992</td>\n",
       "      <td>Prima Taste</td>\n",
       "      <td>Singapore Laksa La Mian</td>\n",
       "      <td>Pack</td>\n",
       "      <td>Singapore</td>\n",
       "      <td>5.00</td>\n",
       "      <td>2013 #1</td>\n",
       "    </tr>\n",
       "    <tr>\n",
       "      <th>1589</th>\n",
       "      <td>991</td>\n",
       "      <td>Prima Taste</td>\n",
       "      <td>Singapore Curry La Mian</td>\n",
       "      <td>Pack</td>\n",
       "      <td>Singapore</td>\n",
       "      <td>5.00</td>\n",
       "      <td>2013 #2</td>\n",
       "    </tr>\n",
       "    <tr>\n",
       "      <th>1646</th>\n",
       "      <td>934</td>\n",
       "      <td>Nongshim</td>\n",
       "      <td>Jinjja Jinjja Flamin' Hot &amp; Nutty</td>\n",
       "      <td>Pack</td>\n",
       "      <td>USA</td>\n",
       "      <td>5.00</td>\n",
       "      <td>2013 #4</td>\n",
       "    </tr>\n",
       "    <tr>\n",
       "      <th>1670</th>\n",
       "      <td>910</td>\n",
       "      <td>Paldo</td>\n",
       "      <td>Namja Ramyun</td>\n",
       "      <td>Bowl</td>\n",
       "      <td>South Korea</td>\n",
       "      <td>4.25</td>\n",
       "      <td>\\n</td>\n",
       "    </tr>\n",
       "    <tr>\n",
       "      <th>1757</th>\n",
       "      <td>823</td>\n",
       "      <td>Paldo</td>\n",
       "      <td>Kokomen Spicy Chicken</td>\n",
       "      <td>Pack</td>\n",
       "      <td>South Korea</td>\n",
       "      <td>5.00</td>\n",
       "      <td>2013 #9</td>\n",
       "    </tr>\n",
       "    <tr>\n",
       "      <th>1846</th>\n",
       "      <td>734</td>\n",
       "      <td>Indomie</td>\n",
       "      <td>Mi Goreng Rasa Ayam Panggang Jumbo (Local)</td>\n",
       "      <td>Pack</td>\n",
       "      <td>Indonesia</td>\n",
       "      <td>5.00</td>\n",
       "      <td>\\n</td>\n",
       "    </tr>\n",
       "    <tr>\n",
       "      <th>1865</th>\n",
       "      <td>715</td>\n",
       "      <td>Indomie</td>\n",
       "      <td>Mi Goreng Rendang (Import)</td>\n",
       "      <td>Pack</td>\n",
       "      <td>Indonesia</td>\n",
       "      <td>5.00</td>\n",
       "      <td>2013 #3</td>\n",
       "    </tr>\n",
       "    <tr>\n",
       "      <th>1972</th>\n",
       "      <td>608</td>\n",
       "      <td>Koka</td>\n",
       "      <td>Spicy Black Pepper</td>\n",
       "      <td>Pack</td>\n",
       "      <td>Singapore</td>\n",
       "      <td>5.00</td>\n",
       "      <td>2012 #10</td>\n",
       "    </tr>\n",
       "    <tr>\n",
       "      <th>2002</th>\n",
       "      <td>578</td>\n",
       "      <td>Nongshim</td>\n",
       "      <td>Shin Ramyun Black</td>\n",
       "      <td>Pack</td>\n",
       "      <td>South Korea</td>\n",
       "      <td>4.75</td>\n",
       "      <td>2012 #7</td>\n",
       "    </tr>\n",
       "    <tr>\n",
       "      <th>2146</th>\n",
       "      <td>434</td>\n",
       "      <td>Mi Sedaap</td>\n",
       "      <td>Kari Spesial</td>\n",
       "      <td>Pack</td>\n",
       "      <td>Indonesia</td>\n",
       "      <td>4.50</td>\n",
       "      <td>2012 #5</td>\n",
       "    </tr>\n",
       "    <tr>\n",
       "      <th>2188</th>\n",
       "      <td>392</td>\n",
       "      <td>Nissin</td>\n",
       "      <td>Yakisoba Noodles Karashi</td>\n",
       "      <td>Tray</td>\n",
       "      <td>Japan</td>\n",
       "      <td>5.00</td>\n",
       "      <td>2012 #3</td>\n",
       "    </tr>\n",
       "    <tr>\n",
       "      <th>2189</th>\n",
       "      <td>391</td>\n",
       "      <td>Myojo</td>\n",
       "      <td>Hyoubanya No Chukasoba Oriental</td>\n",
       "      <td>Pack</td>\n",
       "      <td>Japan</td>\n",
       "      <td>4.25</td>\n",
       "      <td>2012 #6</td>\n",
       "    </tr>\n",
       "    <tr>\n",
       "      <th>2248</th>\n",
       "      <td>332</td>\n",
       "      <td>Nongshim</td>\n",
       "      <td>Champong Oriental Noodles</td>\n",
       "      <td>Cup</td>\n",
       "      <td>South Korea</td>\n",
       "      <td>3.75</td>\n",
       "      <td>\\n</td>\n",
       "    </tr>\n",
       "    <tr>\n",
       "      <th>2295</th>\n",
       "      <td>285</td>\n",
       "      <td>Doll</td>\n",
       "      <td>Artificial Chicken</td>\n",
       "      <td>Pack</td>\n",
       "      <td>Hong Kong</td>\n",
       "      <td>4.50</td>\n",
       "      <td>2012 #9</td>\n",
       "    </tr>\n",
       "    <tr>\n",
       "      <th>2475</th>\n",
       "      <td>105</td>\n",
       "      <td>Indomie</td>\n",
       "      <td>Special Fried Curly Noodle</td>\n",
       "      <td>Pack</td>\n",
       "      <td>Indonesia</td>\n",
       "      <td>5.00</td>\n",
       "      <td>2012 #1</td>\n",
       "    </tr>\n",
       "    <tr>\n",
       "      <th>2533</th>\n",
       "      <td>47</td>\n",
       "      <td>Indomie</td>\n",
       "      <td>Mi Goreng Jumbo Barbecue Chicken</td>\n",
       "      <td>Pack</td>\n",
       "      <td>Indonesia</td>\n",
       "      <td>5.00</td>\n",
       "      <td>2012 #2</td>\n",
       "    </tr>\n",
       "    <tr>\n",
       "      <th>2535</th>\n",
       "      <td>45</td>\n",
       "      <td>Indomie</td>\n",
       "      <td>Mi Goreng Sate</td>\n",
       "      <td>Pack</td>\n",
       "      <td>Indonesia</td>\n",
       "      <td>5.00</td>\n",
       "      <td>\\n</td>\n",
       "    </tr>\n",
       "    <tr>\n",
       "      <th>2549</th>\n",
       "      <td>31</td>\n",
       "      <td>Myojo</td>\n",
       "      <td>Ippeichan Yakisoba</td>\n",
       "      <td>Tray</td>\n",
       "      <td>Japan</td>\n",
       "      <td>4.00</td>\n",
       "      <td>2013 #6</td>\n",
       "    </tr>\n",
       "    <tr>\n",
       "      <th>2567</th>\n",
       "      <td>13</td>\n",
       "      <td>Sapporo Ichiban</td>\n",
       "      <td>Chow Mein</td>\n",
       "      <td>Pack</td>\n",
       "      <td>Japan</td>\n",
       "      <td>5.00</td>\n",
       "      <td>2012 #4</td>\n",
       "    </tr>\n",
       "  </tbody>\n",
       "</table>\n",
       "</div>"
      ],
      "text/plain": [
       "      Review #             Brand  \\\n",
       "616       1964              MAMA   \n",
       "633       1947       Prima Taste   \n",
       "655       1925             Prima   \n",
       "673       1907       Prima Taste   \n",
       "752       1828     Tseng Noodles   \n",
       "891       1689      Wugudaochang   \n",
       "942       1638  A-Sha Dry Noodle   \n",
       "963       1617           MyKuali   \n",
       "995       1585            CarJEN   \n",
       "1059      1521          Maruchan   \n",
       "1072      1508             Mamee   \n",
       "1080      1500           MyKuali   \n",
       "1109      1471              Mama   \n",
       "1114      1466              Mama   \n",
       "1230      1350             Mamee   \n",
       "1250      1330   Sapporo Ichiban   \n",
       "1272      1308          Nongshim   \n",
       "1278      1302              Mama   \n",
       "1309      1271       Prima Taste   \n",
       "1382      1198     Samyang Foods   \n",
       "1397      1183             Paldo   \n",
       "1493      1087           MyKuali   \n",
       "1588       992       Prima Taste   \n",
       "1589       991       Prima Taste   \n",
       "1646       934          Nongshim   \n",
       "1670       910             Paldo   \n",
       "1757       823             Paldo   \n",
       "1846       734           Indomie   \n",
       "1865       715           Indomie   \n",
       "1972       608              Koka   \n",
       "2002       578          Nongshim   \n",
       "2146       434         Mi Sedaap   \n",
       "2188       392            Nissin   \n",
       "2189       391             Myojo   \n",
       "2248       332          Nongshim   \n",
       "2295       285              Doll   \n",
       "2475       105           Indomie   \n",
       "2533        47           Indomie   \n",
       "2535        45           Indomie   \n",
       "2549        31             Myojo   \n",
       "2567        13   Sapporo Ichiban   \n",
       "\n",
       "                                                Variety Style      Country  \\\n",
       "616                Instant Noodles Coconut Milk Flavour  Pack      Myanmar   \n",
       "633                  Singapore Laksa Wholegrain La Mian  Pack    Singapore   \n",
       "655                   Juzz's Mee Creamy Chicken Flavour  Pack    Singapore   \n",
       "673                  Singapore Curry Wholegrain La Mian  Pack    Singapore   \n",
       "752                Scallion With Sichuan Pepper  Flavor  Pack       Taiwan   \n",
       "891     Tomato Beef Brisket Flavor Purple Potato Noodle  Pack        China   \n",
       "942   Veggie Noodle Tomato Noodle With Vine Ripened ...  Pack       Taiwan   \n",
       "963    Penang Hokkien Prawn Noodle (New Improved Taste)  Pack     Malaysia   \n",
       "995                                  Nyonya Curry Laksa  Pack     Malaysia   \n",
       "1059                           Gotsumori Sauce Yakisoba  Tray        Japan   \n",
       "1072               Chef Gold Recipe Mi Kari Seribu Rasa  Pack     Malaysia   \n",
       "1080                    Penang Red Tom Yum Goong Noodle  Pack     Malaysia   \n",
       "1109  Instant Noodles Shrimp Creamy Tom Yum Flavour ...  Pack     Thailand   \n",
       "1114  Oriental Style Instant Noodles Green Curry Fla...  Pack     Thailand   \n",
       "1230                           Chef Curry Laksa Flavour  Pack     Malaysia   \n",
       "1250                     Otafuku Okonomi Sauce Yakisoba  Tray        Japan   \n",
       "1272                            Soon Veggie Noodle Soup  Pack  South Korea   \n",
       "1278     Instant Noodles Yentafo Tom Yum Mohfai Flavour  Pack     Thailand   \n",
       "1309                      Singapore Chilli Crab La Mian  Pack    Singapore   \n",
       "1382                    Maesaengyitangmyun Baked Noodle  Pack  South Korea   \n",
       "1397                                      Cheese Noodle  Pack  South Korea   \n",
       "1493                          Penang White Curry Noodle  Pack     Malaysia   \n",
       "1588                            Singapore Laksa La Mian  Pack    Singapore   \n",
       "1589                            Singapore Curry La Mian  Pack    Singapore   \n",
       "1646                  Jinjja Jinjja Flamin' Hot & Nutty  Pack          USA   \n",
       "1670                                       Namja Ramyun  Bowl  South Korea   \n",
       "1757                              Kokomen Spicy Chicken  Pack  South Korea   \n",
       "1846         Mi Goreng Rasa Ayam Panggang Jumbo (Local)  Pack    Indonesia   \n",
       "1865                         Mi Goreng Rendang (Import)  Pack    Indonesia   \n",
       "1972                                 Spicy Black Pepper  Pack    Singapore   \n",
       "2002                                  Shin Ramyun Black  Pack  South Korea   \n",
       "2146                                       Kari Spesial  Pack    Indonesia   \n",
       "2188                           Yakisoba Noodles Karashi  Tray        Japan   \n",
       "2189                    Hyoubanya No Chukasoba Oriental  Pack        Japan   \n",
       "2248                          Champong Oriental Noodles   Cup  South Korea   \n",
       "2295                                 Artificial Chicken  Pack    Hong Kong   \n",
       "2475                         Special Fried Curly Noodle  Pack    Indonesia   \n",
       "2533                   Mi Goreng Jumbo Barbecue Chicken  Pack    Indonesia   \n",
       "2535                                     Mi Goreng Sate  Pack    Indonesia   \n",
       "2549                                 Ippeichan Yakisoba  Tray        Japan   \n",
       "2567                                          Chow Mein  Pack        Japan   \n",
       "\n",
       "      Stars   Top Ten  \n",
       "616    5.00  2016 #10  \n",
       "633    5.00   2016 #1  \n",
       "655    5.00   2016 #8  \n",
       "673    5.00   2016 #5  \n",
       "752    5.00   2016 #9  \n",
       "891    5.00   2016 #7  \n",
       "942    5.00  2015 #10  \n",
       "963    5.00   2015 #7  \n",
       "995    5.00   2015 #4  \n",
       "1059   5.00   2015 #9  \n",
       "1072   5.00   2015 #6  \n",
       "1080   5.00   2015 #1  \n",
       "1109   5.00  2013 #10  \n",
       "1114   5.00   2015 #8  \n",
       "1230   5.00   2014 #7  \n",
       "1250   5.00   2014 #4  \n",
       "1272   5.00   2014 #9  \n",
       "1278   5.00  2014 #10  \n",
       "1309   5.00   2014 #8  \n",
       "1382   5.00   2014 #5  \n",
       "1397   5.00   2014 #6  \n",
       "1493   5.00   2014 #1  \n",
       "1588   5.00   2013 #1  \n",
       "1589   5.00   2013 #2  \n",
       "1646   5.00   2013 #4  \n",
       "1670   4.25        \\n  \n",
       "1757   5.00   2013 #9  \n",
       "1846   5.00        \\n  \n",
       "1865   5.00   2013 #3  \n",
       "1972   5.00  2012 #10  \n",
       "2002   4.75   2012 #7  \n",
       "2146   4.50   2012 #5  \n",
       "2188   5.00   2012 #3  \n",
       "2189   4.25   2012 #6  \n",
       "2248   3.75        \\n  \n",
       "2295   4.50   2012 #9  \n",
       "2475   5.00   2012 #1  \n",
       "2533   5.00   2012 #2  \n",
       "2535   5.00        \\n  \n",
       "2549   4.00   2013 #6  \n",
       "2567   5.00   2012 #4  "
      ]
     },
     "execution_count": 16,
     "metadata": {},
     "output_type": "execute_result"
    }
   ],
   "source": [
    "df[df['Top Ten'] != 0]"
   ]
  },
  {
   "cell_type": "code",
   "execution_count": 17,
   "metadata": {
    "execution": {
     "iopub.execute_input": "2020-09-25T16:20:10.861925Z",
     "iopub.status.busy": "2020-09-25T16:20:10.861259Z",
     "iopub.status.idle": "2020-09-25T16:20:10.863476Z",
     "shell.execute_reply": "2020-09-25T16:20:10.863999Z"
    },
    "papermill": {
     "duration": 0.057509,
     "end_time": "2020-09-25T16:20:10.864143",
     "exception": false,
     "start_time": "2020-09-25T16:20:10.806634",
     "status": "completed"
    },
    "tags": []
   },
   "outputs": [],
   "source": [
    "# we can we still '\\n' in our data\n",
    "# considering it as missing value let's fill it with 0 temporarily\n",
    "top_ten_with_n=df[df['Top Ten'] == '\\n']\n",
    "for i in top_ten_with_n.index:\n",
    "    df.loc[i,'Top Ten']=0"
   ]
  },
  {
   "cell_type": "code",
   "execution_count": 18,
   "metadata": {
    "execution": {
     "iopub.execute_input": "2020-09-25T16:20:10.957174Z",
     "iopub.status.busy": "2020-09-25T16:20:10.956507Z",
     "iopub.status.idle": "2020-09-25T16:20:10.963269Z",
     "shell.execute_reply": "2020-09-25T16:20:10.963729Z"
    },
    "papermill": {
     "duration": 0.054922,
     "end_time": "2020-09-25T16:20:10.963872",
     "exception": false,
     "start_time": "2020-09-25T16:20:10.908950",
     "status": "completed"
    },
    "slideshow": {
     "slide_type": "slide"
    },
    "tags": []
   },
   "outputs": [],
   "source": [
    "#creating seperate columns for each year\n",
    "#and fill with NaN\n",
    "years=['2012','2013','2014','2015','2016']\n",
    "for y in years:\n",
    "    df[y+'_rank']=np.nan"
   ]
  },
  {
   "cell_type": "code",
   "execution_count": 19,
   "metadata": {
    "execution": {
     "iopub.execute_input": "2020-09-25T16:20:11.058002Z",
     "iopub.status.busy": "2020-09-25T16:20:11.057021Z",
     "iopub.status.idle": "2020-09-25T16:20:11.141065Z",
     "shell.execute_reply": "2020-09-25T16:20:11.140321Z"
    },
    "papermill": {
     "duration": 0.132712,
     "end_time": "2020-09-25T16:20:11.141186",
     "exception": false,
     "start_time": "2020-09-25T16:20:11.008474",
     "status": "completed"
    },
    "slideshow": {
     "slide_type": "fragment"
    },
    "tags": []
   },
   "outputs": [],
   "source": [
    "# for specific year with the help of regex.\n",
    "#Stroring the row number for each value.\n",
    "#Extracting the rank which is at the end of the string.\n",
    "#Storing the rank at the specific year column and specific row index we stored at step2.\n",
    "#Dropping the \"Top Ten\" column.\n",
    "for rank in df['Top Ten'].values:\n",
    "    for y in years:\n",
    "        if re.search('^'+y,str(rank)):\n",
    "            index = df[df['Top Ten']==rank].index.values\n",
    "            rank_number = str(rank).split()[-1]\n",
    "            df.loc[index,y+'_rank'] = int(''.join([i for i in rank_number if i.isdigit()]))\n",
    "df.drop('Top Ten', axis=1, inplace=True)"
   ]
  },
  {
   "cell_type": "code",
   "execution_count": 20,
   "metadata": {
    "execution": {
     "iopub.execute_input": "2020-09-25T16:20:11.239441Z",
     "iopub.status.busy": "2020-09-25T16:20:11.238789Z",
     "iopub.status.idle": "2020-09-25T16:20:11.254792Z",
     "shell.execute_reply": "2020-09-25T16:20:11.255344Z"
    },
    "papermill": {
     "duration": 0.06943,
     "end_time": "2020-09-25T16:20:11.255491",
     "exception": false,
     "start_time": "2020-09-25T16:20:11.186061",
     "status": "completed"
    },
    "slideshow": {
     "slide_type": "slide"
    },
    "tags": []
   },
   "outputs": [
    {
     "data": {
      "text/html": [
       "<div>\n",
       "<style scoped>\n",
       "    .dataframe tbody tr th:only-of-type {\n",
       "        vertical-align: middle;\n",
       "    }\n",
       "\n",
       "    .dataframe tbody tr th {\n",
       "        vertical-align: top;\n",
       "    }\n",
       "\n",
       "    .dataframe thead th {\n",
       "        text-align: right;\n",
       "    }\n",
       "</style>\n",
       "<table border=\"1\" class=\"dataframe\">\n",
       "  <thead>\n",
       "    <tr style=\"text-align: right;\">\n",
       "      <th></th>\n",
       "      <th>Review #</th>\n",
       "      <th>Brand</th>\n",
       "      <th>Variety</th>\n",
       "      <th>Style</th>\n",
       "      <th>Country</th>\n",
       "      <th>Stars</th>\n",
       "      <th>2012_rank</th>\n",
       "      <th>2013_rank</th>\n",
       "      <th>2014_rank</th>\n",
       "      <th>2015_rank</th>\n",
       "      <th>2016_rank</th>\n",
       "    </tr>\n",
       "  </thead>\n",
       "  <tbody>\n",
       "    <tr>\n",
       "      <th>0</th>\n",
       "      <td>2580</td>\n",
       "      <td>New Touch</td>\n",
       "      <td>T's Restaurant Tantanmen</td>\n",
       "      <td>Cup</td>\n",
       "      <td>Japan</td>\n",
       "      <td>3.75</td>\n",
       "      <td>0.0</td>\n",
       "      <td>0.0</td>\n",
       "      <td>0.0</td>\n",
       "      <td>0.0</td>\n",
       "      <td>0.0</td>\n",
       "    </tr>\n",
       "    <tr>\n",
       "      <th>1</th>\n",
       "      <td>2579</td>\n",
       "      <td>Just Way</td>\n",
       "      <td>Noodles Spicy Hot Sesame Spicy Hot Sesame Guan...</td>\n",
       "      <td>Pack</td>\n",
       "      <td>Taiwan</td>\n",
       "      <td>1.00</td>\n",
       "      <td>0.0</td>\n",
       "      <td>0.0</td>\n",
       "      <td>0.0</td>\n",
       "      <td>0.0</td>\n",
       "      <td>0.0</td>\n",
       "    </tr>\n",
       "    <tr>\n",
       "      <th>2</th>\n",
       "      <td>2578</td>\n",
       "      <td>Nissin</td>\n",
       "      <td>Cup Noodles Chicken Vegetable</td>\n",
       "      <td>Cup</td>\n",
       "      <td>USA</td>\n",
       "      <td>2.25</td>\n",
       "      <td>0.0</td>\n",
       "      <td>0.0</td>\n",
       "      <td>0.0</td>\n",
       "      <td>0.0</td>\n",
       "      <td>0.0</td>\n",
       "    </tr>\n",
       "    <tr>\n",
       "      <th>3</th>\n",
       "      <td>2577</td>\n",
       "      <td>Wei Lih</td>\n",
       "      <td>GGE Ramen Snack Tomato Flavor</td>\n",
       "      <td>Pack</td>\n",
       "      <td>Taiwan</td>\n",
       "      <td>2.75</td>\n",
       "      <td>0.0</td>\n",
       "      <td>0.0</td>\n",
       "      <td>0.0</td>\n",
       "      <td>0.0</td>\n",
       "      <td>0.0</td>\n",
       "    </tr>\n",
       "    <tr>\n",
       "      <th>4</th>\n",
       "      <td>2576</td>\n",
       "      <td>Ching's Secret</td>\n",
       "      <td>Singapore Curry</td>\n",
       "      <td>Pack</td>\n",
       "      <td>India</td>\n",
       "      <td>3.75</td>\n",
       "      <td>0.0</td>\n",
       "      <td>0.0</td>\n",
       "      <td>0.0</td>\n",
       "      <td>0.0</td>\n",
       "      <td>0.0</td>\n",
       "    </tr>\n",
       "  </tbody>\n",
       "</table>\n",
       "</div>"
      ],
      "text/plain": [
       "   Review #           Brand  \\\n",
       "0      2580       New Touch   \n",
       "1      2579        Just Way   \n",
       "2      2578          Nissin   \n",
       "3      2577         Wei Lih   \n",
       "4      2576  Ching's Secret   \n",
       "\n",
       "                                             Variety Style Country  Stars  \\\n",
       "0                          T's Restaurant Tantanmen    Cup   Japan   3.75   \n",
       "1  Noodles Spicy Hot Sesame Spicy Hot Sesame Guan...  Pack  Taiwan   1.00   \n",
       "2                      Cup Noodles Chicken Vegetable   Cup     USA   2.25   \n",
       "3                      GGE Ramen Snack Tomato Flavor  Pack  Taiwan   2.75   \n",
       "4                                    Singapore Curry  Pack   India   3.75   \n",
       "\n",
       "   2012_rank  2013_rank  2014_rank  2015_rank  2016_rank  \n",
       "0        0.0        0.0        0.0        0.0        0.0  \n",
       "1        0.0        0.0        0.0        0.0        0.0  \n",
       "2        0.0        0.0        0.0        0.0        0.0  \n",
       "3        0.0        0.0        0.0        0.0        0.0  \n",
       "4        0.0        0.0        0.0        0.0        0.0  "
      ]
     },
     "execution_count": 20,
     "metadata": {},
     "output_type": "execute_result"
    }
   ],
   "source": [
    "#it very clean that no rank is equal to 0 rank\n",
    "df.fillna(0, inplace=True)\n",
    "df.head()"
   ]
  },
  {
   "cell_type": "code",
   "execution_count": 21,
   "metadata": {
    "execution": {
     "iopub.execute_input": "2020-09-25T16:20:11.351553Z",
     "iopub.status.busy": "2020-09-25T16:20:11.350796Z",
     "iopub.status.idle": "2020-09-25T16:20:11.360153Z",
     "shell.execute_reply": "2020-09-25T16:20:11.359587Z"
    },
    "papermill": {
     "duration": 0.058883,
     "end_time": "2020-09-25T16:20:11.360286",
     "exception": false,
     "start_time": "2020-09-25T16:20:11.301403",
     "status": "completed"
    },
    "slideshow": {
     "slide_type": "slide"
    },
    "tags": []
   },
   "outputs": [
    {
     "data": {
      "text/plain": [
       "Review #     0\n",
       "Brand        0\n",
       "Variety      0\n",
       "Style        0\n",
       "Country      0\n",
       "Stars        0\n",
       "2012_rank    0\n",
       "2013_rank    0\n",
       "2014_rank    0\n",
       "2015_rank    0\n",
       "2016_rank    0\n",
       "dtype: int64"
      ]
     },
     "execution_count": 21,
     "metadata": {},
     "output_type": "execute_result"
    }
   ],
   "source": [
    "df.isna().sum()"
   ]
  },
  {
   "cell_type": "code",
   "execution_count": 22,
   "metadata": {
    "execution": {
     "iopub.execute_input": "2020-09-25T16:20:11.474585Z",
     "iopub.status.busy": "2020-09-25T16:20:11.473469Z",
     "iopub.status.idle": "2020-09-25T16:20:11.479342Z",
     "shell.execute_reply": "2020-09-25T16:20:11.480058Z"
    },
    "papermill": {
     "duration": 0.072985,
     "end_time": "2020-09-25T16:20:11.480247",
     "exception": false,
     "start_time": "2020-09-25T16:20:11.407262",
     "status": "completed"
    },
    "slideshow": {
     "slide_type": "slide"
    },
    "tags": []
   },
   "outputs": [
    {
     "data": {
      "text/plain": [
       "0.0     2569\n",
       "4.0        1\n",
       "2.0        1\n",
       "1.0        1\n",
       "9.0        1\n",
       "6.0        1\n",
       "3.0        1\n",
       "5.0        1\n",
       "7.0        1\n",
       "10.0       1\n",
       "Name: 2012_rank, dtype: int64"
      ]
     },
     "execution_count": 22,
     "metadata": {},
     "output_type": "execute_result"
    }
   ],
   "source": [
    "df[\"2012_rank\"].value_counts()"
   ]
  },
  {
   "cell_type": "code",
   "execution_count": 23,
   "metadata": {
    "execution": {
     "iopub.execute_input": "2020-09-25T16:20:11.615084Z",
     "iopub.status.busy": "2020-09-25T16:20:11.614333Z",
     "iopub.status.idle": "2020-09-25T16:20:11.618267Z",
     "shell.execute_reply": "2020-09-25T16:20:11.617664Z"
    },
    "papermill": {
     "duration": 0.073987,
     "end_time": "2020-09-25T16:20:11.618386",
     "exception": false,
     "start_time": "2020-09-25T16:20:11.544399",
     "status": "completed"
    },
    "slideshow": {
     "slide_type": "slide"
    },
    "tags": []
   },
   "outputs": [
    {
     "data": {
      "text/plain": [
       "0.0     2571\n",
       "6.0        1\n",
       "3.0        1\n",
       "9.0        1\n",
       "4.0        1\n",
       "2.0        1\n",
       "1.0        1\n",
       "10.0       1\n",
       "Name: 2013_rank, dtype: int64"
      ]
     },
     "execution_count": 23,
     "metadata": {},
     "output_type": "execute_result"
    }
   ],
   "source": [
    "df[\"2013_rank\"].value_counts()"
   ]
  },
  {
   "cell_type": "code",
   "execution_count": 24,
   "metadata": {
    "execution": {
     "iopub.execute_input": "2020-09-25T16:20:11.723263Z",
     "iopub.status.busy": "2020-09-25T16:20:11.722504Z",
     "iopub.status.idle": "2020-09-25T16:20:11.725295Z",
     "shell.execute_reply": "2020-09-25T16:20:11.725964Z"
    },
    "papermill": {
     "duration": 0.058119,
     "end_time": "2020-09-25T16:20:11.726127",
     "exception": false,
     "start_time": "2020-09-25T16:20:11.668008",
     "status": "completed"
    },
    "slideshow": {
     "slide_type": "slide"
    },
    "tags": []
   },
   "outputs": [
    {
     "data": {
      "text/plain": [
       "0.0     2570\n",
       "1.0        1\n",
       "6.0        1\n",
       "5.0        1\n",
       "8.0        1\n",
       "10.0       1\n",
       "9.0        1\n",
       "4.0        1\n",
       "7.0        1\n",
       "Name: 2014_rank, dtype: int64"
      ]
     },
     "execution_count": 24,
     "metadata": {},
     "output_type": "execute_result"
    }
   ],
   "source": [
    "df[\"2014_rank\"].value_counts()"
   ]
  },
  {
   "cell_type": "code",
   "execution_count": 25,
   "metadata": {
    "execution": {
     "iopub.execute_input": "2020-09-25T16:20:11.834094Z",
     "iopub.status.busy": "2020-09-25T16:20:11.833389Z",
     "iopub.status.idle": "2020-09-25T16:20:11.840756Z",
     "shell.execute_reply": "2020-09-25T16:20:11.841546Z"
    },
    "papermill": {
     "duration": 0.061246,
     "end_time": "2020-09-25T16:20:11.841691",
     "exception": false,
     "start_time": "2020-09-25T16:20:11.780445",
     "status": "completed"
    },
    "slideshow": {
     "slide_type": "slide"
    },
    "tags": []
   },
   "outputs": [
    {
     "data": {
      "text/plain": [
       "0.0     2571\n",
       "8.0        1\n",
       "1.0        1\n",
       "6.0        1\n",
       "9.0        1\n",
       "4.0        1\n",
       "7.0        1\n",
       "10.0       1\n",
       "Name: 2015_rank, dtype: int64"
      ]
     },
     "execution_count": 25,
     "metadata": {},
     "output_type": "execute_result"
    }
   ],
   "source": [
    "df[\"2015_rank\"].value_counts()"
   ]
  },
  {
   "cell_type": "code",
   "execution_count": 26,
   "metadata": {
    "execution": {
     "iopub.execute_input": "2020-09-25T16:20:11.950071Z",
     "iopub.status.busy": "2020-09-25T16:20:11.949380Z",
     "iopub.status.idle": "2020-09-25T16:20:11.956745Z",
     "shell.execute_reply": "2020-09-25T16:20:11.957364Z"
    },
    "papermill": {
     "duration": 0.063092,
     "end_time": "2020-09-25T16:20:11.957512",
     "exception": false,
     "start_time": "2020-09-25T16:20:11.894420",
     "status": "completed"
    },
    "slideshow": {
     "slide_type": "slide"
    },
    "tags": []
   },
   "outputs": [
    {
     "data": {
      "text/plain": [
       "0.0     2572\n",
       "7.0        1\n",
       "9.0        1\n",
       "5.0        1\n",
       "8.0        1\n",
       "1.0        1\n",
       "10.0       1\n",
       "Name: 2016_rank, dtype: int64"
      ]
     },
     "execution_count": 26,
     "metadata": {},
     "output_type": "execute_result"
    }
   ],
   "source": [
    "df[\"2016_rank\"].value_counts()"
   ]
  },
  {
   "cell_type": "markdown",
   "metadata": {
    "papermill": {
     "duration": 0.048548,
     "end_time": "2020-09-25T16:20:12.054732",
     "exception": false,
     "start_time": "2020-09-25T16:20:12.006184",
     "status": "completed"
    },
    "slideshow": {
     "slide_type": "slide"
    },
    "tags": []
   },
   "source": [
    "--------------------------\n",
    "## Visualise and Analyse"
   ]
  },
  {
   "cell_type": "markdown",
   "metadata": {
    "papermill": {
     "duration": 0.049291,
     "end_time": "2020-09-25T16:20:12.201337",
     "exception": false,
     "start_time": "2020-09-25T16:20:12.152046",
     "status": "completed"
    },
    "slideshow": {
     "slide_type": "slide"
    },
    "tags": []
   },
   "source": [
    "#### Q) What is the popularity of ramens across the countries?"
   ]
  },
  {
   "cell_type": "code",
   "execution_count": 27,
   "metadata": {
    "execution": {
     "iopub.execute_input": "2020-09-25T16:20:12.308043Z",
     "iopub.status.busy": "2020-09-25T16:20:12.307387Z",
     "iopub.status.idle": "2020-09-25T16:20:12.741232Z",
     "shell.execute_reply": "2020-09-25T16:20:12.740558Z"
    },
    "papermill": {
     "duration": 0.491242,
     "end_time": "2020-09-25T16:20:12.741354",
     "exception": false,
     "start_time": "2020-09-25T16:20:12.250112",
     "status": "completed"
    },
    "slideshow": {
     "slide_type": "slide"
    },
    "tags": []
   },
   "outputs": [
    {
     "data": {
      "image/png": "[encoded data removed]",
      "text/plain": [
       "<Figure size 864x576 with 1 Axes>"
      ]
     },
     "metadata": {
      "needs_background": "light"
     },
     "output_type": "display_data"
    }
   ],
   "source": [
    "v = df.Country.value_counts()\n",
    "v=v.sort_values(ascending=True)\n",
    "fig, ax = plt.subplots(figsize=(12,8))\n",
    "v.plot(kind='barh')\n",
    "plt.show()"
   ]
  },
  {
   "cell_type": "markdown",
   "metadata": {
    "papermill": {
     "duration": 0.049276,
     "end_time": "2020-09-25T16:20:12.840679",
     "exception": false,
     "start_time": "2020-09-25T16:20:12.791403",
     "status": "completed"
    },
    "slideshow": {
     "slide_type": "fragment"
    },
    "tags": []
   },
   "source": [
    "#### Conclusion :\n",
    "Ramen is very popular and highly preferred in Asian countries like Japan,China,South korea etc. Exceptions are USA and UK. We can say that migration of people from Asian countries to USA and UK is high and that has resulted in high Ramen Consumption in those 2 countries."
   ]
  },
  {
   "cell_type": "markdown",
   "metadata": {
    "papermill": {
     "duration": 0.050222,
     "end_time": "2020-09-25T16:20:12.941926",
     "exception": false,
     "start_time": "2020-09-25T16:20:12.891704",
     "status": "completed"
    },
    "slideshow": {
     "slide_type": "slide"
    },
    "tags": []
   },
   "source": [
    "#### Q) Number of varities in each brand?"
   ]
  },
  {
   "cell_type": "code",
   "execution_count": 28,
   "metadata": {
    "execution": {
     "iopub.execute_input": "2020-09-25T16:20:13.063060Z",
     "iopub.status.busy": "2020-09-25T16:20:13.051902Z",
     "iopub.status.idle": "2020-09-25T16:20:13.273706Z",
     "shell.execute_reply": "2020-09-25T16:20:13.274175Z"
    },
    "papermill": {
     "duration": 0.281842,
     "end_time": "2020-09-25T16:20:13.274337",
     "exception": false,
     "start_time": "2020-09-25T16:20:12.992495",
     "status": "completed"
    },
    "slideshow": {
     "slide_type": "fragment"
    },
    "tags": []
   },
   "outputs": [
    {
     "data": {
      "image/png": "[encoded data removed]",
      "text/plain": [
       "<Figure size 1080x288 with 1 Axes>"
      ]
     },
     "metadata": {
      "needs_background": "light"
     },
     "output_type": "display_data"
    }
   ],
   "source": [
    "brands_name = df.Brand.value_counts()[:10].index\n",
    "brand_size = df.Brand.value_counts()[:10].values\n",
    "\n",
    "fig,ax=plt.subplots(figsize=(15,4))\n",
    "ax.bar(brands_name, brand_size, data=df)\n",
    "ax.set_ylabel('Number of products')\n",
    "for p in ax.patches:\n",
    "    an=ax.annotate(str(p.get_height()), xy=(p.get_x(),p.get_height()))\n",
    "    an.set_size(12)"
   ]
  },
  {
   "cell_type": "markdown",
   "metadata": {
    "papermill": {
     "duration": 0.051188,
     "end_time": "2020-09-25T16:20:13.376916",
     "exception": false,
     "start_time": "2020-09-25T16:20:13.325728",
     "status": "completed"
    },
    "slideshow": {
     "slide_type": "subslide"
    },
    "tags": []
   },
   "source": [
    "#### Conclusion : \n",
    "We see \"Nissin\" brand to be having the highest number of varities followed by \"Nongshim\" and \"Maruchan\" . "
   ]
  },
  {
   "cell_type": "markdown",
   "metadata": {
    "papermill": {
     "duration": 0.052774,
     "end_time": "2020-09-25T16:20:13.483555",
     "exception": false,
     "start_time": "2020-09-25T16:20:13.430781",
     "status": "completed"
    },
    "slideshow": {
     "slide_type": "slide"
    },
    "tags": []
   },
   "source": [
    "#### Q) Most prefered Ramen style"
   ]
  },
  {
   "cell_type": "code",
   "execution_count": 29,
   "metadata": {
    "execution": {
     "iopub.execute_input": "2020-09-25T16:20:13.595186Z",
     "iopub.status.busy": "2020-09-25T16:20:13.594389Z",
     "iopub.status.idle": "2020-09-25T16:20:13.598057Z",
     "shell.execute_reply": "2020-09-25T16:20:13.597531Z"
    },
    "papermill": {
     "duration": 0.063399,
     "end_time": "2020-09-25T16:20:13.598168",
     "exception": false,
     "start_time": "2020-09-25T16:20:13.534769",
     "status": "completed"
    },
    "slideshow": {
     "slide_type": "fragment"
    },
    "tags": []
   },
   "outputs": [
    {
     "data": {
      "text/plain": [
       "Pack    1531\n",
       "Bowl     481\n",
       "Cup      450\n",
       "Tray     108\n",
       "Box        6\n",
       "Can        1\n",
       "Bar        1\n",
       "Name: Style, dtype: int64"
      ]
     },
     "execution_count": 29,
     "metadata": {},
     "output_type": "execute_result"
    }
   ],
   "source": [
    "style=df.Style.value_counts()\n",
    "style"
   ]
  },
  {
   "cell_type": "code",
   "execution_count": 30,
   "metadata": {
    "execution": {
     "iopub.execute_input": "2020-09-25T16:20:13.723880Z",
     "iopub.status.busy": "2020-09-25T16:20:13.713502Z",
     "iopub.status.idle": "2020-09-25T16:20:13.782517Z",
     "shell.execute_reply": "2020-09-25T16:20:13.781957Z"
    },
    "papermill": {
     "duration": 0.13308,
     "end_time": "2020-09-25T16:20:13.782638",
     "exception": false,
     "start_time": "2020-09-25T16:20:13.649558",
     "status": "completed"
    },
    "slideshow": {
     "slide_type": "subslide"
    },
    "tags": []
   },
   "outputs": [
    {
     "data": {
      "image/png": "[encoded data removed]",
      "text/plain": [
       "<Figure size 432x288 with 1 Axes>"
      ]
     },
     "metadata": {},
     "output_type": "display_data"
    }
   ],
   "source": [
    "plt.pie(style[0:4],pctdistance=1.5,autopct=\"%2.01f%%\",radius=1.7,labels=['Pack','Bowl','Cup','Tray'],\n",
    "        explode=[0,0,0,0.3],\n",
    "       textprops={'fontsize': 14})\n",
    "plt.show()"
   ]
  },
  {
   "cell_type": "code",
   "execution_count": 31,
   "metadata": {
    "execution": {
     "iopub.execute_input": "2020-09-25T16:20:13.900703Z",
     "iopub.status.busy": "2020-09-25T16:20:13.895187Z",
     "iopub.status.idle": "2020-09-25T16:20:14.262097Z",
     "shell.execute_reply": "2020-09-25T16:20:14.261603Z"
    },
    "papermill": {
     "duration": 0.426947,
     "end_time": "2020-09-25T16:20:14.262233",
     "exception": false,
     "start_time": "2020-09-25T16:20:13.835286",
     "status": "completed"
    },
    "slideshow": {
     "slide_type": "subslide"
    },
    "tags": []
   },
   "outputs": [
    {
     "data": {
      "image/png": "[encoded data removed]",
      "text/plain": [
       "<Figure size 288x720 with 1 Axes>"
      ]
     },
     "metadata": {
      "needs_background": "light"
     },
     "output_type": "display_data"
    }
   ],
   "source": [
    "a4_dims = (4, 10)\n",
    "fig, ax = plt.subplots(figsize=a4_dims)\n",
    "sns.scatterplot(ax=ax, data=df,y='Country',x='Style')\n",
    "plt.show()"
   ]
  },
  {
   "cell_type": "markdown",
   "metadata": {
    "papermill": {
     "duration": 0.05412,
     "end_time": "2020-09-25T16:20:14.369950",
     "exception": false,
     "start_time": "2020-09-25T16:20:14.315830",
     "status": "completed"
    },
    "slideshow": {
     "slide_type": "fragment"
    },
    "tags": []
   },
   "source": [
    "#### Conclusion :\n",
    "\"Pack\" Style is most preferred with 59.6% and followed by \"Bowl\" and \"Cup\"(~18% each)"
   ]
  },
  {
   "cell_type": "markdown",
   "metadata": {
    "papermill": {
     "duration": 0.054015,
     "end_time": "2020-09-25T16:20:14.478418",
     "exception": false,
     "start_time": "2020-09-25T16:20:14.424403",
     "status": "completed"
    },
    "slideshow": {
     "slide_type": "slide"
    },
    "tags": []
   },
   "source": [
    "#### Q) What is the density distribution for the \"Stars\" of Ramen?"
   ]
  },
  {
   "cell_type": "code",
   "execution_count": 32,
   "metadata": {
    "execution": {
     "iopub.execute_input": "2020-09-25T16:20:14.602705Z",
     "iopub.status.busy": "2020-09-25T16:20:14.600445Z",
     "iopub.status.idle": "2020-09-25T16:20:14.760468Z",
     "shell.execute_reply": "2020-09-25T16:20:14.761008Z"
    },
    "papermill": {
     "duration": 0.228837,
     "end_time": "2020-09-25T16:20:14.761160",
     "exception": false,
     "start_time": "2020-09-25T16:20:14.532323",
     "status": "completed"
    },
    "slideshow": {
     "slide_type": "fragment"
    },
    "tags": []
   },
   "outputs": [
    {
     "data": {
      "image/png": "[encoded data removed]",
      "text/plain": [
       "<Figure size 432x288 with 1 Axes>"
      ]
     },
     "metadata": {
      "needs_background": "light"
     },
     "output_type": "display_data"
    }
   ],
   "source": [
    "sns.distplot(df['Stars'],hist=True,kde=True,bins=5)\n",
    "plt.show()"
   ]
  },
  {
   "cell_type": "markdown",
   "metadata": {
    "papermill": {
     "duration": 0.055741,
     "end_time": "2020-09-25T16:20:14.871891",
     "exception": false,
     "start_time": "2020-09-25T16:20:14.816150",
     "status": "completed"
    },
    "slideshow": {
     "slide_type": "fragment"
    },
    "tags": []
   },
   "source": [
    "#### Conclusion :\n",
    "The plot of density of \"Stars\" shows that it is \"Left Skewed\"."
   ]
  },
  {
   "cell_type": "markdown",
   "metadata": {
    "papermill": {
     "duration": 0.059435,
     "end_time": "2020-09-25T16:20:14.990979",
     "exception": false,
     "start_time": "2020-09-25T16:20:14.931544",
     "status": "completed"
    },
    "slideshow": {
     "slide_type": "slide"
    },
    "tags": []
   },
   "source": [
    "### Have you noticed that Japan, USA and South Korea are the top 3 consumers of Ramen?"
   ]
  },
  {
   "cell_type": "code",
   "execution_count": 33,
   "metadata": {
    "execution": {
     "iopub.execute_input": "2020-09-25T16:20:15.124328Z",
     "iopub.status.busy": "2020-09-25T16:20:15.118612Z",
     "iopub.status.idle": "2020-09-25T16:20:15.472555Z",
     "shell.execute_reply": "2020-09-25T16:20:15.471844Z"
    },
    "papermill": {
     "duration": 0.421371,
     "end_time": "2020-09-25T16:20:15.472728",
     "exception": false,
     "start_time": "2020-09-25T16:20:15.051357",
     "status": "completed"
    },
    "slideshow": {
     "slide_type": "fragment"
    },
    "tags": []
   },
   "outputs": [
    {
     "data": {
      "image/png": "[encoded data removed]",
      "text/plain": [
       "<Figure size 864x576 with 1 Axes>"
      ]
     },
     "metadata": {
      "needs_background": "light"
     },
     "output_type": "display_data"
    }
   ],
   "source": [
    "v = df.Country.value_counts()\n",
    "v=v.sort_values(ascending=True)\n",
    "fig, ax = plt.subplots(figsize=(12,8))\n",
    "v.plot(kind='barh')\n",
    "plt.show()"
   ]
  },
  {
   "cell_type": "markdown",
   "metadata": {
    "papermill": {
     "duration": 0.054975,
     "end_time": "2020-09-25T16:20:15.583299",
     "exception": false,
     "start_time": "2020-09-25T16:20:15.528324",
     "status": "completed"
    },
    "slideshow": {
     "slide_type": "slide"
    },
    "tags": []
   },
   "source": [
    "### Let's analyse further...."
   ]
  },
  {
   "cell_type": "markdown",
   "metadata": {
    "papermill": {
     "duration": 0.062704,
     "end_time": "2020-09-25T16:20:15.701965",
     "exception": false,
     "start_time": "2020-09-25T16:20:15.639261",
     "status": "completed"
    },
    "slideshow": {
     "slide_type": "slide"
    },
    "tags": []
   },
   "source": [
    "#### Top 3 most preferred brands in Japan, USA and South Korea?"
   ]
  },
  {
   "cell_type": "code",
   "execution_count": 34,
   "metadata": {
    "execution": {
     "iopub.execute_input": "2020-09-25T16:20:15.841875Z",
     "iopub.status.busy": "2020-09-25T16:20:15.828733Z",
     "iopub.status.idle": "2020-09-25T16:20:16.205530Z",
     "shell.execute_reply": "2020-09-25T16:20:16.204945Z"
    },
    "papermill": {
     "duration": 0.447238,
     "end_time": "2020-09-25T16:20:16.205658",
     "exception": false,
     "start_time": "2020-09-25T16:20:15.758420",
     "status": "completed"
    },
    "slideshow": {
     "slide_type": "skip"
    },
    "tags": []
   },
   "outputs": [
    {
     "data": {
      "image/png": "[encoded data removed]",
      "text/plain": [
       "<Figure size 1080x360 with 3 Axes>"
      ]
     },
     "metadata": {
      "needs_background": "light"
     },
     "output_type": "display_data"
    }
   ],
   "source": [
    "japan=df.loc[(df['Country'] == 'Japan') & (df['Stars'] >= 4.5)]\n",
    "usa=df.loc[(df['Country'] == 'USA') & (df['Stars'] >= 4.5)]\n",
    "south_korea=df.loc[(df['Country'] == 'South Korea') & (df['Stars'] >= 4.5)]\n",
    "fig, axes = plt.subplots(1, 3, figsize=(15, 5), sharey=True)\n",
    "\n",
    "# TITLE\n",
    "fig.suptitle('TOP RAMEN BRANDS')\n",
    "axes[0].set_title('TOP 3 MOST PREFFERED RAMEN BRANDS IN JAPAN',fontsize=10)\n",
    "axes[1].set_title('TOP 3 MOST PREFFERED RAMEN BRANDS IN USA',fontsize=10)\n",
    "axes[2].set_title('TOP 3 MOST PREFFERED RAMEN BRANDS IN SOUTH KOREA',fontsize=10)\n",
    "axes[0].set_ylabel('PREFFERED TIMES', fontsize=10)\n",
    "axes[0].set_xlabel('BRANDS', fontsize=10)\n",
    "axes[1].set_ylabel('PREFFERED TIMES', fontsize=10)\n",
    "axes[1].set_xlabel('BRANDS', fontsize=10)\n",
    "axes[2].set_ylabel('PREFFERED TIMES', fontsize=10)\n",
    "axes[2].set_xlabel('BRANDS', fontsize=10)\n",
    "\n",
    "# JAPAN\n",
    "x_jp= japan['Brand'].value_counts()\n",
    "x_jp= x_jp[:3,]\n",
    "sns.barplot(ax=axes[0],x=x_jp.index, y=x_jp.values,palette=\"Paired\")\n",
    "\n",
    "# USA\n",
    "x_usa= usa['Brand'].value_counts()\n",
    "x_usa= x_usa[:3,]\n",
    "sns.barplot(ax=axes[1],x=x_usa.index,y= x_usa.values,palette=\"hls\")\n",
    "\n",
    "# SOUTH KOREA\n",
    "x_sk= south_korea['Brand'].value_counts()\n",
    "x_sk= x_sk[:3,]\n",
    "sns.barplot(ax=axes[2],x=x_sk.index,y= x_sk.values,palette=\"Paired\")\n",
    "plt.show()"
   ]
  },
  {
   "cell_type": "markdown",
   "metadata": {
    "papermill": {
     "duration": 0.057157,
     "end_time": "2020-09-25T16:20:16.320424",
     "exception": false,
     "start_time": "2020-09-25T16:20:16.263267",
     "status": "completed"
    },
    "slideshow": {
     "slide_type": "skip"
    },
    "tags": []
   },
   "source": [
    "### Star Rating Analysis in Japan"
   ]
  },
  {
   "cell_type": "code",
   "execution_count": 35,
   "metadata": {
    "execution": {
     "iopub.execute_input": "2020-09-25T16:20:16.476995Z",
     "iopub.status.busy": "2020-09-25T16:20:16.459829Z",
     "iopub.status.idle": "2020-09-25T16:20:17.236606Z",
     "shell.execute_reply": "2020-09-25T16:20:17.237074Z"
    },
    "papermill": {
     "duration": 0.859691,
     "end_time": "2020-09-25T16:20:17.237240",
     "exception": false,
     "start_time": "2020-09-25T16:20:16.377549",
     "status": "completed"
    },
    "slideshow": {
     "slide_type": "skip"
    },
    "tags": []
   },
   "outputs": [
    {
     "data": {
      "image/png": "[encoded data removed]",
      "text/plain": [
       "<Figure size 1080x1080 with 3 Axes>"
      ]
     },
     "metadata": {},
     "output_type": "display_data"
    },
    {
     "data": {
      "image/png": "[encoded data removed]",
      "text/plain": [
       "<Figure size 1080x360 with 3 Axes>"
      ]
     },
     "metadata": {
      "needs_background": "light"
     },
     "output_type": "display_data"
    }
   ],
   "source": [
    "# NISSIN\n",
    "jn1=df.loc[(df['Country'] == 'Japan') & (df['Stars'] >= 4)& (df['Brand']=='Nissin')]\n",
    "jn2=df.loc[(df['Country'] == 'Japan') & (df['Stars'] < 4)& (df['Brand']=='Nissin')]\n",
    "totjnp=jn1['Review #'].sum()\n",
    "totjnn=jn2['Review #'].sum()\n",
    "rev1 = totjnp,totjnn\n",
    "\n",
    "# MYOJO\n",
    "jmy1=df.loc[(df['Country'] == 'Japan') & (df['Stars'] >= 4)& (df['Brand']=='Myojo')]\n",
    "jmy2=df.loc[(df['Country'] == 'Japan') & (df['Stars'] < 4)& (df['Brand']=='Myojo')]\n",
    "totmyp=jmy1['Review #'].sum()\n",
    "totmyn=jmy2['Review #'].sum()\n",
    "rev2 = totmyp,totmyn\n",
    "\n",
    "# MARUCHAN\n",
    "jma1=df.loc[(df['Country'] == 'Japan') & (df['Stars'] >= 4)& (df['Brand']=='Maruchan')]\n",
    "jma2=df.loc[(df['Country'] == 'Japan') & (df['Stars'] < 4)& (df['Brand']=='Maruchan')]\n",
    "totmap=jma1['Review #'].sum()\n",
    "totman=jma2['Review #'].sum()\n",
    "rev3 = totmap,totman\n",
    "labels = 'Above 4.0','Below 4.0'\n",
    "colors = ['yellowgreen', 'lightskyblue']\n",
    "explode = (0.1, 0) \n",
    "fig ,ax=plt.subplots(1,3,figsize=(15,15))\n",
    "ax[0].pie(rev1, explode=explode, labels=labels, colors=colors,autopct='%1.1f%%')\n",
    "ax[1].pie(rev2, explode=explode, labels=labels, colors=colors,autopct='%1.1f%%')\n",
    "ax[2].pie(rev3, explode=explode, labels=labels, colors=colors,autopct='%1.1f%%')\n",
    "ax[0].set_title('NISSIN',fontsize=10)\n",
    "ax[1].set_title('MYOJO',fontsize=10)\n",
    "ax[2].set_title('MARUCHAN',fontsize=10)\n",
    "plt.show()\n",
    "japan_b1=df.loc[(df['Country'] == 'Japan') & (df['Brand']=='Nissin')]\n",
    "japan_b2=df.loc[(df['Country'] == 'Japan') & (df['Brand']=='Myojo')]\n",
    "japan_b3=df.loc[(df['Country'] == 'Japan') & (df['Brand']=='Maruchan')]\n",
    "fig, axes = plt.subplots(1, 3, figsize=(15, 5), sharey=True)\n",
    "fig.suptitle('Ratings Comparision')\n",
    "axes[0].set_title('NISSIN',fontsize=10)\n",
    "axes[1].set_title('MYOJO',fontsize=10)\n",
    "axes[2].set_title('MARUCHAN',fontsize=10)\n",
    "sns.countplot(ax=axes[0],x=\"Stars\", data=japan_b1, palette=\"muted\")\n",
    "sns.countplot(ax=axes[1],x=\"Stars\", data=japan_b2, palette=\"muted\")\n",
    "sns.countplot(ax=axes[2],x=\"Stars\", data=japan_b3, palette=\"muted\")\n",
    "plt.show()"
   ]
  },
  {
   "cell_type": "markdown",
   "metadata": {
    "papermill": {
     "duration": 0.058205,
     "end_time": "2020-09-25T16:20:17.354345",
     "exception": false,
     "start_time": "2020-09-25T16:20:17.296140",
     "status": "completed"
    },
    "slideshow": {
     "slide_type": "skip"
    },
    "tags": []
   },
   "source": [
    "### Star Rating Analysis in USA"
   ]
  },
  {
   "cell_type": "code",
   "execution_count": 36,
   "metadata": {
    "execution": {
     "iopub.execute_input": "2020-09-25T16:20:17.523083Z",
     "iopub.status.busy": "2020-09-25T16:20:17.513994Z",
     "iopub.status.idle": "2020-09-25T16:20:18.259113Z",
     "shell.execute_reply": "2020-09-25T16:20:18.258341Z"
    },
    "papermill": {
     "duration": 0.846292,
     "end_time": "2020-09-25T16:20:18.259286",
     "exception": false,
     "start_time": "2020-09-25T16:20:17.412994",
     "status": "completed"
    },
    "slideshow": {
     "slide_type": "skip"
    },
    "tags": []
   },
   "outputs": [
    {
     "data": {
      "image/png": "[encoded data removed]",
      "text/plain": [
       "<Figure size 1080x1080 with 3 Axes>"
      ]
     },
     "metadata": {},
     "output_type": "display_data"
    },
    {
     "data": {
      "image/png": "[encoded data removed]",
      "text/plain": [
       "<Figure size 1440x360 with 3 Axes>"
      ]
     },
     "metadata": {
      "needs_background": "light"
     },
     "output_type": "display_data"
    }
   ],
   "source": [
    "#Nongshim \n",
    "ub1=df.loc[(df['Country'] == 'USA') & (df['Stars'] >= 4)& (df['Brand']=='Nongshim')]\n",
    "usb1=df.loc[(df['Country'] == 'USA') & (df['Stars'] < 4)& (df['Brand']=='Nongshim')]\n",
    "totub1=ub1['Review #'].sum()\n",
    "totusb1=usb1['Review #'].sum()\n",
    "us1 = totub1,totusb1\n",
    "\n",
    "# NISSIN\n",
    "ub2=df.loc[(df['Country'] == 'USA') & (df['Stars'] >= 4)& (df['Brand']=='Nissin')]\n",
    "usb2=df.loc[(df['Country'] == 'USA') & (df['Stars'] < 4)& (df['Brand']=='Nissin')]\n",
    "totub2=ub2['Review #'].sum()\n",
    "totusb2=usb2['Review #'].sum()\n",
    "us2 = totub2,totusb2\n",
    "\n",
    "#Yamachan\n",
    "ub3=df.loc[(df['Country'] == 'USA') & (df['Stars'] >= 4.5)& (df['Brand']=='Yamachan')]\n",
    "usb3=df.loc[(df['Country'] == 'USA') & (df['Stars'] < 4.5)& (df['Brand']=='Yamachan')]\n",
    "totub3=ub3['Review #'].sum()\n",
    "totusb3=usb3['Review #'].sum()\n",
    "us3 = totub3,totusb3\n",
    "labels = 'Above 4.0','Below 4.0'\n",
    "label1=\"Above 4.5\",\"Below 4.5\"\n",
    "colors = ['yellowgreen', 'lightskyblue']\n",
    "explode = (0.1, 0) \n",
    "fig ,ax=plt.subplots(1,3,figsize=(15,15))\n",
    "ax[0].pie(us1, explode=explode, labels=labels, colors=colors,autopct='%1.1f%%')\n",
    "ax[1].pie(us2, explode=explode, labels=labels, colors=colors,autopct='%1.1f%%')\n",
    "ax[2].pie(us3, explode=explode, labels=label1, colors=colors,autopct='%1.1f%%')\n",
    "ax[0].set_title('Nongshim',fontsize=15)\n",
    "ax[1].set_title('NISSIN',fontsize=15)\n",
    "ax[2].set_title('Yamachan',fontsize=15)\n",
    "plt.show()\n",
    "usa_b1=df.loc[(df['Country'] == 'USA') &  (df['Brand']=='Nongshim')]\n",
    "usa_b2=df.loc[(df['Country'] == 'USA') &  (df['Brand']=='Nissin')]\n",
    "usa_b3=df.loc[(df['Country'] == 'USA') &  (df['Brand']=='Yamachan')]\n",
    "fig, axes = plt.subplots(1, 3, figsize=(20, 5), sharey=True)\n",
    "fig.suptitle('Ratings Comparision')\n",
    "axes[0].set_title('NONGSHIM',fontsize=10)\n",
    "axes[1].set_title('NISSIN',fontsize=10)\n",
    "axes[2].set_title('YAMACHAN',fontsize=10)\n",
    "sns.countplot(ax=axes[0],x=\"Stars\", data=usa_b1, palette=\"muted\")\n",
    "sns.countplot(ax=axes[1],x=\"Stars\", data=usa_b2, palette=\"muted\")\n",
    "sns.countplot(ax=axes[2],x=\"Stars\", data=usa_b3, palette=\"muted\")\n",
    "plt.show()"
   ]
  },
  {
   "cell_type": "markdown",
   "metadata": {
    "papermill": {
     "duration": 0.063167,
     "end_time": "2020-09-25T16:20:18.391747",
     "exception": false,
     "start_time": "2020-09-25T16:20:18.328580",
     "status": "completed"
    },
    "slideshow": {
     "slide_type": "skip"
    },
    "tags": []
   },
   "source": [
    "### Star Rating Analysis in South Korea"
   ]
  },
  {
   "cell_type": "code",
   "execution_count": 37,
   "metadata": {
    "execution": {
     "iopub.execute_input": "2020-09-25T16:20:18.564150Z",
     "iopub.status.busy": "2020-09-25T16:20:18.530258Z",
     "iopub.status.idle": "2020-09-25T16:20:19.124103Z",
     "shell.execute_reply": "2020-09-25T16:20:19.123414Z"
    },
    "papermill": {
     "duration": 0.670535,
     "end_time": "2020-09-25T16:20:19.124246",
     "exception": false,
     "start_time": "2020-09-25T16:20:18.453711",
     "status": "completed"
    },
    "slideshow": {
     "slide_type": "skip"
    },
    "tags": []
   },
   "outputs": [
    {
     "data": {
      "image/png": "[encoded data removed]",
      "text/plain": [
       "<Figure size 1080x1080 with 3 Axes>"
      ]
     },
     "metadata": {},
     "output_type": "display_data"
    },
    {
     "data": {
      "image/png": "[encoded data removed]",
      "text/plain": [
       "<Figure size 1080x360 with 3 Axes>"
      ]
     },
     "metadata": {
      "needs_background": "light"
     },
     "output_type": "display_data"
    }
   ],
   "source": [
    "# PALDO\n",
    "sk1=df.loc[(df['Country'] == 'South Korea') & (df['Stars'] >= 4)& (df['Brand']=='Paldo')]\n",
    "skb1=df.loc[(df['Country'] == 'South Korea') & (df['Stars'] < 4)& (df['Brand']=='Paldo')]\n",
    "totsk1=sk1['Review #'].sum()\n",
    "totskb1=skb1['Review #'].sum()\n",
    "rev1 = totsk1,totskb1\n",
    "\n",
    "# NONGSHIM\n",
    "sk2=df.loc[(df['Country'] == 'South Korea') & (df['Stars'] >= 4)& (df['Brand']=='Nongshim')]\n",
    "skb2=df.loc[(df['Country'] == 'South Korea') & (df['Stars'] < 4)& (df['Brand']=='Nongshim')]\n",
    "totsk2=sk2['Review #'].sum()\n",
    "totskb2=skb2['Review #'].sum()\n",
    "rev2 = totsk2,totskb2\n",
    "\n",
    "# SAMYANG FOODS\n",
    "sk3=df.loc[(df['Country'] == 'South Korea') & (df['Stars'] >= 4)& (df['Brand']=='Samyang Foods')]\n",
    "skb3=df.loc[(df['Country'] == 'South Korea') & (df['Stars'] < 4)& (df['Brand']=='Samyang Foods')]\n",
    "totsk3=sk3['Review #'].sum()\n",
    "totskb3=skb3['Review #'].sum()\n",
    "rev3 = totsk3,totskb3\n",
    "labels = 'Above 4.0','Below 4.0'\n",
    "colors = ['yellowgreen', 'lightskyblue']\n",
    "explode = (0.1, 0) \n",
    "fig ,ax=plt.subplots(1,3,figsize=(15,15))\n",
    "ax[0].pie(rev1, explode=explode, labels=labels, colors=colors,autopct='%1.1f%%')\n",
    "ax[1].pie(rev2, explode=explode, labels=labels, colors=colors,autopct='%1.1f%%')\n",
    "ax[2].pie(rev3, explode=explode, labels=labels, colors=colors,autopct='%1.1f%%')\n",
    "ax[0].set_title('PALDO',fontsize=15)\n",
    "ax[1].set_title('NONGSHIM',fontsize=15)\n",
    "ax[2].set_title('SAMYANG FOODS',fontsize=15)\n",
    "plt.show()\n",
    "south_k_b1=df.loc[(df['Country'] == 'South Korea') & (df['Stars'] >= 4)& (df['Brand']=='Paldo')]\n",
    "south_k_b2=df.loc[(df['Country'] == 'South Korea') & (df['Stars'] >= 4)& (df['Brand']=='Nongshim')]\n",
    "south_k_b3=df.loc[(df['Country'] == 'South Korea') & (df['Stars'] >= 4)& (df['Brand']=='Samyang Foods')]\n",
    "fig, axes = plt.subplots(1, 3, figsize=(15, 5), sharey=True)\n",
    "fig.suptitle('Ratings Comparision')\n",
    "axes[0].set_title('PALDO',fontsize=10)\n",
    "axes[1].set_title('NONGSHIM',fontsize=10)\n",
    "axes[2].set_title('SAMYANG FOODS',fontsize=10)\n",
    "sns.countplot(ax=axes[0],x=\"Stars\", data=south_k_b1, palette=\"muted\")\n",
    "sns.countplot(ax=axes[1],x=\"Stars\", data=south_k_b2, palette=\"muted\")\n",
    "sns.countplot(ax=axes[2],x=\"Stars\", data=south_k_b3, palette=\"muted\")\n",
    "plt.show()"
   ]
  },
  {
   "cell_type": "markdown",
   "metadata": {
    "papermill": {
     "duration": 0.064009,
     "end_time": "2020-09-25T16:20:19.252362",
     "exception": false,
     "start_time": "2020-09-25T16:20:19.188353",
     "status": "completed"
    },
    "tags": []
   },
   "source": [
    "**************************\n",
    "## Conclusion and Discussion\n",
    "Let's conclude the whole session of work by the following bulletines -\n",
    "1. Ramen is very popular and highly preferred in Asian countries like Japan,China,South korea etc. Exceptions are USA and UK. We can say that migration of people from Asian countries to USA and UK is high and that has resulted in high Ramen Consumption in those 2 countries.\n",
    "2. We see \"Nissin\" brand to be having the highest number of varities followed by \"Nongshim\" and \"Maruchan\" .\n",
    "3. \"Pack\" Style is most preferred with 59.6% and followed by \"Bowl\" and \"Cup\"(~18% each)\n",
    "4. The plot of density of \"Stars\" shows that it is \"Left Skewed\". which means that the ratings are almost near about 4 and 5 everytime!\n",
    "5. In Japan **Nissin** is the most upvoted one!\n",
    "6. But **Nongshim** has more five stars than any other brands.\n",
    "7. **Paldo** having very good ratings against the Nongshim and Samyang.\n",
    "\n",
    "That's all from this analysis of the Ramen Noodles. See you in next project!"
   ]
  }
 ],
 "metadata": {
  "kernelspec": {
   "display_name": "Python 3",
   "language": "python",
   "name": "python3"
  },
  "language_info": {
   "codemirror_mode": {
    "name": "ipython",
    "version": 3
   },
   "file_extension": ".py",
   "mimetype": "text/x-python",
   "name": "python",
   "nbconvert_exporter": "python",
   "pygments_lexer": "ipython3",
   "version": "3.7.6"
  },
  "papermill": {
   "duration": 17.107884,
   "end_time": "2020-09-25T16:20:19.423743",
   "environment_variables": {},
   "exception": null,
   "input_path": "__notebook__.ipynb",
   "output_path": "__notebook__.ipynb",
   "parameters": {},
   "start_time": "2020-09-25T16:20:02.315859",
   "version": "2.1.0"
  }
 },
 "nbformat": 4,
 "nbformat_minor": 4
}
